{
 "cells": [
  {
   "cell_type": "code",
   "execution_count": 1,
   "metadata": {
    "collapsed": true
   },
   "outputs": [],
   "source": [
    "import numpy as np\n",
    "import tensorflow as tf"
   ]
  },
  {
   "cell_type": "code",
   "execution_count": 48,
   "metadata": {},
   "outputs": [
    {
     "name": "stdout",
     "output_type": "stream",
     "text": [
      "[0 1 2]\n",
      "[[0]\n",
      " [1]\n",
      " [2]]\n",
      "(3, 1)\n",
      "[[0 0 0]\n",
      " [1 1 1]\n",
      " [2 2 2]]\n",
      "[0 0 0 1 1 1 2 2 2]\n"
     ]
    }
   ],
   "source": [
    "sess = tf.InteractiveSession()\n",
    "\n",
    "\n",
    "# vgg_generated_images (batch, hegith, width, feature)\n",
    "# => (batch, style_n_best, height, width, feature)\n",
    "\n",
    "# idx = tf.range(style_n_best)\n",
    "\n",
    "\n",
    "yp = [1,2,3]\n",
    "idx = tf.range(len(yp))\n",
    "print(idx.eval())\n",
    "idx = tf.reshape(idx, [-1, 1])# Convert to a len(yp) x 1 matrix.\n",
    "print(idx.eval())\n",
    "print(idx.shape)\n",
    "idx = tf.tile(idx, [1, len(yp)])  # Create multiple columns.\n",
    "print(idx.eval())\n",
    "idx = tf.reshape(idx, [-1])       # Convert back to a vector.\n",
    "print(idx.eval())\n",
    "sess.close()"
   ]
  },
  {
   "cell_type": "code",
   "execution_count": 7,
   "metadata": {},
   "outputs": [],
   "source": [
    "# tf.tile test\n",
    "with tf.Session() as sess:\n",
    "    batch, height, width, feature = 2, 3, 3, 2\n",
    "    style_n_best = 3\n",
    "\n",
    "    vgg_generated_images = tf.placeholder(tf.float32, shape=(batch, height, width, feature))\n",
    "    \n",
    "    init_vgg_generated_images = np.array(\n",
    "        [\n",
    "            [[[1, 1], [2, 2], [3, 3]], [[4, 4], [5, 5], [6, 6]], [[7, 7], [8, 8], [9, 9]]],\n",
    "            [[[11, 11], [12, 12], [13, 13]], [[14, 14], [15, 15], [16, 16]], [[17, 17], [18, 18], [19, 19]]]\n",
    "        ])\n",
    "    \n",
    "    test = tf.tile(vgg_generated_images, [1, style_n_best, 1, 1])\n",
    "    \n",
    "    feed_dict = {vgg_generated_images: init_vgg_generated_images}\n",
    "    \n",
    "    out = sess.run(test, feed_dict=feed_dict)    "
   ]
  },
  {
   "cell_type": "code",
   "execution_count": 8,
   "metadata": {},
   "outputs": [
    {
     "data": {
      "text/plain": [
       "(2, 9, 3, 2)"
      ]
     },
     "execution_count": 8,
     "metadata": {},
     "output_type": "execute_result"
    }
   ],
   "source": [
    "out.shape"
   ]
  },
  {
   "cell_type": "code",
   "execution_count": 9,
   "metadata": {},
   "outputs": [
    {
     "data": {
      "text/plain": [
       "array([[[[  1.,   1.],\n",
       "         [  2.,   2.],\n",
       "         [  3.,   3.]],\n",
       "\n",
       "        [[  4.,   4.],\n",
       "         [  5.,   5.],\n",
       "         [  6.,   6.]],\n",
       "\n",
       "        [[  7.,   7.],\n",
       "         [  8.,   8.],\n",
       "         [  9.,   9.]],\n",
       "\n",
       "        [[  1.,   1.],\n",
       "         [  2.,   2.],\n",
       "         [  3.,   3.]],\n",
       "\n",
       "        [[  4.,   4.],\n",
       "         [  5.,   5.],\n",
       "         [  6.,   6.]],\n",
       "\n",
       "        [[  7.,   7.],\n",
       "         [  8.,   8.],\n",
       "         [  9.,   9.]],\n",
       "\n",
       "        [[  1.,   1.],\n",
       "         [  2.,   2.],\n",
       "         [  3.,   3.]],\n",
       "\n",
       "        [[  4.,   4.],\n",
       "         [  5.,   5.],\n",
       "         [  6.,   6.]],\n",
       "\n",
       "        [[  7.,   7.],\n",
       "         [  8.,   8.],\n",
       "         [  9.,   9.]]],\n",
       "\n",
       "\n",
       "       [[[ 11.,  11.],\n",
       "         [ 12.,  12.],\n",
       "         [ 13.,  13.]],\n",
       "\n",
       "        [[ 14.,  14.],\n",
       "         [ 15.,  15.],\n",
       "         [ 16.,  16.]],\n",
       "\n",
       "        [[ 17.,  17.],\n",
       "         [ 18.,  18.],\n",
       "         [ 19.,  19.]],\n",
       "\n",
       "        [[ 11.,  11.],\n",
       "         [ 12.,  12.],\n",
       "         [ 13.,  13.]],\n",
       "\n",
       "        [[ 14.,  14.],\n",
       "         [ 15.,  15.],\n",
       "         [ 16.,  16.]],\n",
       "\n",
       "        [[ 17.,  17.],\n",
       "         [ 18.,  18.],\n",
       "         [ 19.,  19.]],\n",
       "\n",
       "        [[ 11.,  11.],\n",
       "         [ 12.,  12.],\n",
       "         [ 13.,  13.]],\n",
       "\n",
       "        [[ 14.,  14.],\n",
       "         [ 15.,  15.],\n",
       "         [ 16.,  16.]],\n",
       "\n",
       "        [[ 17.,  17.],\n",
       "         [ 18.,  18.],\n",
       "         [ 19.,  19.]]]], dtype=float32)"
      ]
     },
     "execution_count": 9,
     "metadata": {},
     "output_type": "execute_result"
    }
   ],
   "source": [
    "out"
   ]
  },
  {
   "cell_type": "code",
   "execution_count": null,
   "metadata": {
    "collapsed": true
   },
   "outputs": [],
   "source": []
  },
  {
   "cell_type": "code",
   "execution_count": null,
   "metadata": {
    "collapsed": true
   },
   "outputs": [],
   "source": []
  },
  {
   "cell_type": "code",
   "execution_count": 22,
   "metadata": {
    "scrolled": true
   },
   "outputs": [],
   "source": [
    "with tf.Session() as sess:\n",
    "    batch, height, width, feature = 2, 3, 3, 2\n",
    "    style_n_best = 3\n",
    "    \n",
    "    vgg_style_best = tf.placeholder(tf.float32, shape=(batch, style_n_best, height, width, feature))\n",
    "    \n",
    "    init_vgg_style_best = np.array(\n",
    "        [\n",
    "            [\n",
    "             [[[101, 101], [102, 102], [103, 103]], [[104, 104], [105, 105], [106, 106]], [[107, 107], [108, 108], [109, 109]]],\n",
    "             [[[111, 111], [112, 112], [113, 113]], [[114, 114], [115, 115], [116, 116]], [[117, 117], [118, 118], [119, 119]]],\n",
    "             [[[151, 151], [152, 152], [153, 153]], [[154, 154], [155, 155], [156, 156]], [[157, 157], [158, 158], [159, 159]]]\n",
    "            ],\n",
    "            [\n",
    "             [[[201, 201], [202, 202], [203, 203]], [[204, 204], [205, 205], [206, 206]], [[207, 207], [208, 208], [209, 209]]],\n",
    "             [[[301, 301], [302, 302], [303, 303]], [[304, 304], [305, 305], [306, 306]], [[307, 307], [308, 308], [309, 309]]],\n",
    "             [[[401, 401], [402, 402], [403, 403]], [[404, 404], [405, 405], [406, 406]], [[407, 407], [408, 408], [409, 409]]]\n",
    "            ]\n",
    "        ]\n",
    "    )\n",
    "    \n",
    "    vgg_generated_images = tf.placeholder(tf.float32, shape=(batch, height, width, feature))\n",
    "    \n",
    "    init_vgg_generated_images = np.array(\n",
    "        [\n",
    "            [[[1, 1], [2, 2], [3, 3]], [[4, 4], [5, 5], [6, 6]], [[7, 7], [8, 8], [9, 9]]],\n",
    "            [[[11, 11], [12, 12], [13, 13]], [[14, 14], [15, 15], [16, 16]], [[17, 17], [18, 18], [19, 19]]]\n",
    "        ])\n",
    "\n",
    "    concat = tf.concat([vgg_generated_images, vgg_generated_images], 1)\n",
    "    concat = tf.concat([concat, vgg_generated_images], 1)\n",
    "    \n",
    "    concat = tf.reshape(concat, [batch, style_n_best, height, width, feature])\n",
    "    \n",
    "    feed_dict = {vgg_style_best: init_vgg_style_best, vgg_generated_images: init_vgg_generated_images}\n",
    "    \n",
    "    out = sess.run(concat, feed_dict=feed_dict)"
   ]
  },
  {
   "cell_type": "code",
   "execution_count": 24,
   "metadata": {},
   "outputs": [
    {
     "data": {
      "text/plain": [
       "array([[[[[  1.,   1.],\n",
       "          [  2.,   2.],\n",
       "          [  3.,   3.]],\n",
       "\n",
       "         [[  4.,   4.],\n",
       "          [  5.,   5.],\n",
       "          [  6.,   6.]],\n",
       "\n",
       "         [[  7.,   7.],\n",
       "          [  8.,   8.],\n",
       "          [  9.,   9.]]],\n",
       "\n",
       "\n",
       "        [[[  1.,   1.],\n",
       "          [  2.,   2.],\n",
       "          [  3.,   3.]],\n",
       "\n",
       "         [[  4.,   4.],\n",
       "          [  5.,   5.],\n",
       "          [  6.,   6.]],\n",
       "\n",
       "         [[  7.,   7.],\n",
       "          [  8.,   8.],\n",
       "          [  9.,   9.]]],\n",
       "\n",
       "\n",
       "        [[[  1.,   1.],\n",
       "          [  2.,   2.],\n",
       "          [  3.,   3.]],\n",
       "\n",
       "         [[  4.,   4.],\n",
       "          [  5.,   5.],\n",
       "          [  6.,   6.]],\n",
       "\n",
       "         [[  7.,   7.],\n",
       "          [  8.,   8.],\n",
       "          [  9.,   9.]]]],\n",
       "\n",
       "\n",
       "\n",
       "       [[[[ 11.,  11.],\n",
       "          [ 12.,  12.],\n",
       "          [ 13.,  13.]],\n",
       "\n",
       "         [[ 14.,  14.],\n",
       "          [ 15.,  15.],\n",
       "          [ 16.,  16.]],\n",
       "\n",
       "         [[ 17.,  17.],\n",
       "          [ 18.,  18.],\n",
       "          [ 19.,  19.]]],\n",
       "\n",
       "\n",
       "        [[[ 11.,  11.],\n",
       "          [ 12.,  12.],\n",
       "          [ 13.,  13.]],\n",
       "\n",
       "         [[ 14.,  14.],\n",
       "          [ 15.,  15.],\n",
       "          [ 16.,  16.]],\n",
       "\n",
       "         [[ 17.,  17.],\n",
       "          [ 18.,  18.],\n",
       "          [ 19.,  19.]]],\n",
       "\n",
       "\n",
       "        [[[ 11.,  11.],\n",
       "          [ 12.,  12.],\n",
       "          [ 13.,  13.]],\n",
       "\n",
       "         [[ 14.,  14.],\n",
       "          [ 15.,  15.],\n",
       "          [ 16.,  16.]],\n",
       "\n",
       "         [[ 17.,  17.],\n",
       "          [ 18.,  18.],\n",
       "          [ 19.,  19.]]]]], dtype=float32)"
      ]
     },
     "execution_count": 24,
     "metadata": {},
     "output_type": "execute_result"
    }
   ],
   "source": [
    "out"
   ]
  },
  {
   "cell_type": "code",
   "execution_count": 22,
   "metadata": {},
   "outputs": [
    {
     "data": {
      "text/plain": [
       "<tf.Tensor 'concat_4:0' shape=(2, 6, 3, 2) dtype=float32>"
      ]
     },
     "execution_count": 22,
     "metadata": {},
     "output_type": "execute_result"
    }
   ],
   "source": [
    "concat"
   ]
  },
  {
   "cell_type": "code",
   "execution_count": 24,
   "metadata": {
    "scrolled": true
   },
   "outputs": [
    {
     "data": {
      "text/plain": [
       "<tf.Tensor 'concat_6:0' shape=(2, 9, 3, 2) dtype=float32>"
      ]
     },
     "execution_count": 24,
     "metadata": {},
     "output_type": "execute_result"
    }
   ],
   "source": [
    "concat"
   ]
  },
  {
   "cell_type": "code",
   "execution_count": 29,
   "metadata": {
    "collapsed": true
   },
   "outputs": [],
   "source": [
    "i = tf.constant(0)\n",
    "while_condition = lambda i: tf.less(i, style_n_best)\n",
    "def body(i):\n",
    "    concat = tf.concat([vgg_generated_images, vgg_generated_images], 1)\n",
    "    # do something here which you want to do in your loop\n",
    "    # increment i\n",
    "    return [tf.add(i, 1)]\n",
    "\n",
    "# do the loop:\n",
    "r = tf.while_loop(while_condition, body, [i])"
   ]
  },
  {
   "cell_type": "code",
   "execution_count": 25,
   "metadata": {
    "collapsed": true
   },
   "outputs": [],
   "source": [
    "def body(x):\n",
    "    return tf.concat([x, vgg_generated_images], 1)\n",
    "\n",
    "def condition(x):\n",
    "    batch, key, _, _  = x.get_shape().as_list()\n",
    "    return key < (style_n_best * height)"
   ]
  },
  {
   "cell_type": "code",
   "execution_count": null,
   "metadata": {
    "collapsed": true
   },
   "outputs": [],
   "source": [
    "def body(x):\n",
    "    a = tf.random_uniform(shape=[2, 2], dtype=tf.int32, maxval=100)\n",
    "    b = tf.constant(np.array([[1, 2], [3, 4]]), dtype=tf.int32)\n",
    "    c = a + b\n",
    "    return tf.nn.relu(x + c)\n",
    "\n",
    "def condition(x):\n",
    "    return tf.reduce_sum(x) < 100\n",
    "\n",
    "x = tf.Variable(tf.constant(0, shape=[2, 2]))\n",
    "\n",
    "with tf.Session():\n",
    "    tf.initialize_all_variables().run()\n",
    "    result = tf.while_loop(condition, body, [x])\n",
    "    print(result.eval())"
   ]
  },
  {
   "cell_type": "code",
   "execution_count": 20,
   "metadata": {},
   "outputs": [
    {
     "data": {
      "text/plain": [
       "array([[[[ 1.,  1.],\n",
       "         [ 2.,  2.],\n",
       "         [ 3.,  3.]],\n",
       "\n",
       "        [[ 4.,  4.],\n",
       "         [ 5.,  5.],\n",
       "         [ 6.,  6.]],\n",
       "\n",
       "        [[ 7.,  7.],\n",
       "         [ 8.,  8.],\n",
       "         [ 9.,  9.]]],\n",
       "\n",
       "\n",
       "       [[[ 1.,  1.],\n",
       "         [ 2.,  2.],\n",
       "         [ 3.,  3.]],\n",
       "\n",
       "        [[ 4.,  4.],\n",
       "         [ 5.,  5.],\n",
       "         [ 6.,  6.]],\n",
       "\n",
       "        [[ 7.,  7.],\n",
       "         [ 8.,  8.],\n",
       "         [ 9.,  9.]]],\n",
       "\n",
       "\n",
       "       [[[ 1.,  1.],\n",
       "         [ 2.,  2.],\n",
       "         [ 3.,  3.]],\n",
       "\n",
       "        [[ 4.,  4.],\n",
       "         [ 5.,  5.],\n",
       "         [ 6.,  6.]],\n",
       "\n",
       "        [[ 7.,  7.],\n",
       "         [ 8.,  8.],\n",
       "         [ 9.,  9.]]]], dtype=float32)"
      ]
     },
     "execution_count": 20,
     "metadata": {},
     "output_type": "execute_result"
    }
   ],
   "source": [
    "out[0]"
   ]
  },
  {
   "cell_type": "code",
   "execution_count": 6,
   "metadata": {
    "scrolled": true
   },
   "outputs": [
    {
     "data": {
      "text/plain": [
       "(2, 3, 3, 3, 2)"
      ]
     },
     "execution_count": 6,
     "metadata": {},
     "output_type": "execute_result"
    }
   ],
   "source": [
    "init_vgg_style_best.shape"
   ]
  },
  {
   "cell_type": "code",
   "execution_count": 7,
   "metadata": {},
   "outputs": [
    {
     "data": {
      "text/plain": [
       "(2, 3, 3, 2)"
      ]
     },
     "execution_count": 7,
     "metadata": {},
     "output_type": "execute_result"
    }
   ],
   "source": [
    "init_vgg_generated_images.shape"
   ]
  },
  {
   "cell_type": "code",
   "execution_count": null,
   "metadata": {
    "collapsed": true
   },
   "outputs": [],
   "source": []
  },
  {
   "cell_type": "code",
   "execution_count": null,
   "metadata": {
    "collapsed": true
   },
   "outputs": [],
   "source": []
  },
  {
   "cell_type": "code",
   "execution_count": null,
   "metadata": {
    "collapsed": true
   },
   "outputs": [],
   "source": [
    "# answer\n",
    "with tf.Session() as sess:\n",
    "    batch, height, width, feature = 2, 3, 3, 2\n",
    "    style_batch = 4\n",
    "\n",
    "    style_layer_patches = tf.placeholder(tf.float32, shape=(style_batch, height, width, feature))\n",
    "    \n",
    "    init_style_layer_patches = np.array(\n",
    "        [\n",
    "         [[[3, 3], [71, 71], [37, 37]], [[47, 47], [57, 57], [67, 67]], [[77, 77], [87, 87], [97, 97]]],\n",
    "         [[[4, 4], [5, 5], [6, 6]], [[7, 7], [8, 8], [9, 9]], [[7, 7], [8, 8], [9, 9]]],\n",
    "         [[[14, 14], [15, 15], [16, 16]], [[7, 7], [8, 8], [9, 9]], [[27, 27], [28, 28], [29, 29]]],\n",
    "         [[[55, 33], [22, 111], [136, 106]], [[17, 17], [85, 85], [95, 95]], [[75, 75], [58, 58], [59, 59]]],   \n",
    "        ])\n",
    "    \n",
    "    generated_layer_patches = tf.placeholder(tf.float32, shape=(batch, height, width, feature))\n",
    "    \n",
    "    init_generated_layer_patches = np.array(\n",
    "        [\n",
    "            [[[1, 1], [2, 2], [3, 3]], [[4, 4], [5, 5], [6, 6]], [[7, 7], [8, 8], [9, 9]]],\n",
    "            [[[41, 41], [42, 42], [43, 43]], [[44, 44], [45, 45], [46, 46]], [[47, 47], [48, 48], [49, 49]]]\n",
    "        ])\n",
    "    \n",
    "#     concat_generate_style_layer = tf.concat([generated_layer_patches, style_layer_patches], 0)\n",
    "    \n",
    "    concat_layer = []\n",
    "    for g_layer_per_batch in tf.unstack(generated_layer_patches):\n",
    "        g_layer_per_batch = tf.expand_dims(g_layer_per_batch, 0)\n",
    "        concat_generate_style_layer = tf.concat([g_layer_per_batch, style_layer_patches], 0)\n",
    "        concat_layer.append(concat_generate_style_layer)\n",
    "    concat_layer = tf.squeeze(tf.stack(concat_layer))\n",
    "    \n",
    "    style_layer_patches_per_batch = tf.unstack(concat_layer, axis=1)\n",
    "    style_layer_join_by_per_batch = tf.stack(style_layer_patches_per_batch, axis=3)\n",
    "    style_layer_join_by_per_feature = tf.reshape(style_layer_join_by_per_batch, [batch, height*width, (style_batch + 1), feature]) \n",
    "    \n",
    "    total_style_loss = 0\n",
    "    for batch_layer in tf.unstack(style_layer_join_by_per_feature):\n",
    "        style_loss_per_batch = []\n",
    "        for layer in tf.unstack(batch_layer):\n",
    "            g_patch, s_patches = tf.split(layer, [1, style_batch], 0)\n",
    "            g_patch = tf.squeeze(g_patch)\n",
    "            ret = []\n",
    "            for pixel in tf.unstack(s_patches):\n",
    "                ret.append(tf.losses.cosine_distance(pixel, g_patch, dim=0))\n",
    "            ret = tf.stack(ret)\n",
    "            min_patch = tf.reduce_min(ret)\n",
    "            style_loss_per_batch.append(min_patch)\n",
    "    #         argmin = tf.argmin(ret)\n",
    "    #         best_match = tf.gather(s_patches, indices=argmin)\n",
    "        style_loss_per_batch = tf.reduce_mean(tf.stack(style_loss_per_batch))\n",
    "        total_style_loss += style_loss_per_batch\n",
    "    \n",
    "    total_style_loss = total_style_loss/batch\n",
    "    feed_dict = {generated_layer_patches: init_generated_layer_patches, style_layer_patches: init_style_layer_patches}\n",
    "    \n",
    "    out = sess.run([total_style_loss], feed_dict=feed_dict)"
   ]
  },
  {
   "cell_type": "code",
   "execution_count": null,
   "metadata": {
    "collapsed": true
   },
   "outputs": [],
   "source": []
  },
  {
   "cell_type": "code",
   "execution_count": null,
   "metadata": {
    "collapsed": true
   },
   "outputs": [],
   "source": []
  },
  {
   "cell_type": "code",
   "execution_count": null,
   "metadata": {
    "collapsed": true
   },
   "outputs": [],
   "source": []
  },
  {
   "cell_type": "code",
   "execution_count": null,
   "metadata": {
    "collapsed": true
   },
   "outputs": [],
   "source": []
  },
  {
   "cell_type": "code",
   "execution_count": 107,
   "metadata": {
    "scrolled": false
   },
   "outputs": [],
   "source": [
    "with tf.Session() as sess:\n",
    "    batch, height, width, feature = 2, 3, 3, 2\n",
    "    style_n_best = 3\n",
    "    \n",
    "    vgg_style_best = tf.placeholder(tf.float32, shape=(batch, style_n_best, height, width, feature))\n",
    "    \n",
    "    init_vgg_style_best = np.array(\n",
    "        [\n",
    "            [\n",
    "             [[[101, 101], [102, 102], [103, 103]], [[104, 104], [105, 105], [106, 106]], [[107, 107], [108, 108], [109, 109]]],\n",
    "             [[[111, 111], [112, 112], [113, 113]], [[114, 114], [115, 115], [116, 116]], [[117, 117], [118, 118], [119, 119]]],\n",
    "             [[[151, 151], [152, 152], [153, 153]], [[154, 154], [155, 155], [156, 156]], [[157, 157], [158, 158], [159, 159]]]\n",
    "            ],\n",
    "            [\n",
    "             [[[201, 201], [202, 202], [203, 203]], [[204, 204], [205, 205], [206, 206]], [[207, 207], [208, 208], [209, 209]]],\n",
    "             [[[301, 301], [302, 302], [303, 303]], [[304, 304], [305, 305], [306, 306]], [[307, 307], [308, 308], [309, 309]]],\n",
    "             [[[401, 401], [402, 402], [403, 403]], [[404, 404], [405, 405], [406, 406]], [[407, 407], [408, 408], [409, 409]]]\n",
    "            ]\n",
    "        ]\n",
    "    )\n",
    "    \n",
    "    vgg_generated_images = tf.placeholder(tf.float32, shape=(batch, height, width, feature))\n",
    "    \n",
    "    init_vgg_generated_images = np.array(\n",
    "        [\n",
    "            [[[1, 1], [2, 2], [3, 3]], [[4, 4], [5, 5], [6, 6]], [[7, 7], [8, 8], [9, 9]]],\n",
    "            [[[11, 11], [12, 12], [13, 13]], [[14, 14], [15, 15], [16, 16]], [[17, 17], [18, 18], [19, 19]]]\n",
    "        ])\n",
    "\n",
    "    vgg_generatd_images_repeat_by_style_n_best = tf.tile(vgg_generated_images, [1, style_n_best, 1, 1])\n",
    "    vgg_generatd_images_repeat_by_style_n_best = tf.reshape(vgg_generatd_images_repeat_by_style_n_best, [batch, style_n_best, height, width, feature])\n",
    "#     params = tf.stack([vgg_generatd_images_repeat_by_style_n_best, vgg_style_best], 1)\n",
    "    \n",
    "    \n",
    "#     distances = tf.map_fn(lambda x: tf.losses.cosine_distance(x[0][2], x[1][2], dim=0), (vgg_generatd_images_repeat_by_style_n_best, vgg_style_best), tf.float32)\n",
    "#     distances = tf.losses.cosine_distance(vgg_generatd_images_repeat_by_style_n_best, vgg_style_best, dim=1)\n",
    "\n",
    "#     normalize_g = tf.nn.l2_normalize(vgg_generatd_images_repeat_by_style_n_best, 4)        \n",
    "#     normalize_s = tf.nn.l2_normalize(vgg_style_best, 4)\n",
    "    cos_distance = tf.squeeze((1 - tf.reduce_sum(tf.multiply(vgg_generatd_images_repeat_by_style_n_best, vgg_style_best), 4)))\n",
    "    cos_distance_min = tf.reduce_min(cos_distance, 1)\n",
    "    style_loss = tf.reduce_mean(cos_distance_min)\n",
    "    \n",
    "    feed_dict = {vgg_style_best: init_vgg_style_best, vgg_generated_images: init_vgg_generated_images}\n",
    "    \n",
    "    out, out_c = sess.run([style_loss, cos_distance_min], feed_dict=feed_dict)"
   ]
  },
  {
   "cell_type": "code",
   "execution_count": 111,
   "metadata": {},
   "outputs": [
    {
     "data": {
      "text/plain": [
       "-6862.3335"
      ]
     },
     "execution_count": 111,
     "metadata": {},
     "output_type": "execute_result"
    }
   ],
   "source": [
    "out"
   ]
  },
  {
   "cell_type": "code",
   "execution_count": 84,
   "metadata": {},
   "outputs": [
    {
     "name": "stdout",
     "output_type": "stream",
     "text": [
      "-15541.0\n"
     ]
    }
   ],
   "source": [
    "with tf.Session() as sess:\n",
    "    print(sess.run(tf.losses.cosine_distance([   409.,    409.], [   19.,    19.] , dim=0)))"
   ]
  },
  {
   "cell_type": "code",
   "execution_count": 90,
   "metadata": {},
   "outputs": [
    {
     "data": {
      "text/plain": [
       "(1, 2, 3, 3)"
      ]
     },
     "execution_count": 90,
     "metadata": {},
     "output_type": "execute_result"
    }
   ],
   "source": [
    "np.asarray(out).shape"
   ]
  },
  {
   "cell_type": "code",
   "execution_count": 112,
   "metadata": {},
   "outputs": [
    {
     "data": {
      "text/plain": [
       "-6862.3335"
      ]
     },
     "execution_count": 112,
     "metadata": {},
     "output_type": "execute_result"
    }
   ],
   "source": [
    "np.mean(out_c)"
   ]
  },
  {
   "cell_type": "code",
   "execution_count": 80,
   "metadata": {},
   "outputs": [
    {
     "data": {
      "text/plain": [
       "[array([[[[  -201.,   -407.,   -617.],\n",
       "          [  -831.,  -1049.,  -1271.],\n",
       "          [ -1497.,  -1727.,  -1961.]],\n",
       " \n",
       "         [[  -221.,   -447.,   -677.],\n",
       "          [  -911.,  -1149.,  -1391.],\n",
       "          [ -1637.,  -1887.,  -2141.]],\n",
       " \n",
       "         [[  -301.,   -607.,   -917.],\n",
       "          [ -1231.,  -1549.,  -1871.],\n",
       "          [ -2197.,  -2527.,  -2861.]]],\n",
       " \n",
       " \n",
       "        [[[ -4421.,  -4847.,  -5277.],\n",
       "          [ -5711.,  -6149.,  -6591.],\n",
       "          [ -7037.,  -7487.,  -7941.]],\n",
       " \n",
       "         [[ -6621.,  -7247.,  -7877.],\n",
       "          [ -8511.,  -9149.,  -9791.],\n",
       "          [-10437., -11087., -11741.]],\n",
       " \n",
       "         [[ -8821.,  -9647., -10477.],\n",
       "          [-11311., -12149., -12991.],\n",
       "          [-13837., -14687., -15541.]]]], dtype=float32)]"
      ]
     },
     "execution_count": 80,
     "metadata": {},
     "output_type": "execute_result"
    }
   ],
   "source": [
    "out"
   ]
  },
  {
   "cell_type": "code",
   "execution_count": 40,
   "metadata": {},
   "outputs": [
    {
     "data": {
      "text/plain": [
       "array([[[[[  1.,   1.],\n",
       "          [  2.,   2.],\n",
       "          [  3.,   3.]],\n",
       "\n",
       "         [[  4.,   4.],\n",
       "          [  5.,   5.],\n",
       "          [  6.,   6.]],\n",
       "\n",
       "         [[  7.,   7.],\n",
       "          [  8.,   8.],\n",
       "          [  9.,   9.]]],\n",
       "\n",
       "\n",
       "        [[[  1.,   1.],\n",
       "          [  2.,   2.],\n",
       "          [  3.,   3.]],\n",
       "\n",
       "         [[  4.,   4.],\n",
       "          [  5.,   5.],\n",
       "          [  6.,   6.]],\n",
       "\n",
       "         [[  7.,   7.],\n",
       "          [  8.,   8.],\n",
       "          [  9.,   9.]]],\n",
       "\n",
       "\n",
       "        [[[  1.,   1.],\n",
       "          [  2.,   2.],\n",
       "          [  3.,   3.]],\n",
       "\n",
       "         [[  4.,   4.],\n",
       "          [  5.,   5.],\n",
       "          [  6.,   6.]],\n",
       "\n",
       "         [[  7.,   7.],\n",
       "          [  8.,   8.],\n",
       "          [  9.,   9.]]]],\n",
       "\n",
       "\n",
       "\n",
       "       [[[[ 11.,  11.],\n",
       "          [ 12.,  12.],\n",
       "          [ 13.,  13.]],\n",
       "\n",
       "         [[ 14.,  14.],\n",
       "          [ 15.,  15.],\n",
       "          [ 16.,  16.]],\n",
       "\n",
       "         [[ 17.,  17.],\n",
       "          [ 18.,  18.],\n",
       "          [ 19.,  19.]]],\n",
       "\n",
       "\n",
       "        [[[ 11.,  11.],\n",
       "          [ 12.,  12.],\n",
       "          [ 13.,  13.]],\n",
       "\n",
       "         [[ 14.,  14.],\n",
       "          [ 15.,  15.],\n",
       "          [ 16.,  16.]],\n",
       "\n",
       "         [[ 17.,  17.],\n",
       "          [ 18.,  18.],\n",
       "          [ 19.,  19.]]],\n",
       "\n",
       "\n",
       "        [[[ 11.,  11.],\n",
       "          [ 12.,  12.],\n",
       "          [ 13.,  13.]],\n",
       "\n",
       "         [[ 14.,  14.],\n",
       "          [ 15.,  15.],\n",
       "          [ 16.,  16.]],\n",
       "\n",
       "         [[ 17.,  17.],\n",
       "          [ 18.,  18.],\n",
       "          [ 19.,  19.]]]]], dtype=float32)"
      ]
     },
     "execution_count": 40,
     "metadata": {},
     "output_type": "execute_result"
    }
   ],
   "source": [
    "out"
   ]
  },
  {
   "cell_type": "code",
   "execution_count": 12,
   "metadata": {},
   "outputs": [
    {
     "data": {
      "text/plain": [
       "<tf.Tensor 'Reshape_4:0' shape=(2, 3, 3, 3, 2) dtype=float32>"
      ]
     },
     "execution_count": 12,
     "metadata": {},
     "output_type": "execute_result"
    }
   ],
   "source": [
    "vgg_generatd_images_repeat_by_style_n_best"
   ]
  },
  {
   "cell_type": "code",
   "execution_count": 13,
   "metadata": {},
   "outputs": [
    {
     "data": {
      "text/plain": [
       "<tf.Tensor 'Placeholder_8:0' shape=(2, 3, 3, 3, 2) dtype=float32>"
      ]
     },
     "execution_count": 13,
     "metadata": {},
     "output_type": "execute_result"
    }
   ],
   "source": [
    "vgg_style_best"
   ]
  },
  {
   "cell_type": "code",
   "execution_count": 161,
   "metadata": {
    "collapsed": true
   },
   "outputs": [],
   "source": [
    "### answer\n",
    "with tf.Session() as sess:\n",
    "    batch, height, width, feature = 2, 3, 3, 2\n",
    "    style_n_best = 3\n",
    "    \n",
    "    vgg_style_best = tf.placeholder(tf.float32, shape=(batch, style_n_best, height, width, feature))\n",
    "    \n",
    "    init_vgg_style_best = np.array(\n",
    "        [\n",
    "            [\n",
    "             [[[255, 125], [102, 102], [103, 103]], [[104, 104], [105, 105], [106, 106]], [[107, 107], [108, 108], [109, 109]]],\n",
    "             [[[111, 111], [112, 112], [113, 113]], [[114, 114], [115, 115], [116, 116]], [[117, 117], [118, 118], [119, 119]]],\n",
    "             [[[151, 151], [152, 152], [153, 153]], [[154, 154], [155, 155], [156, 156]], [[157, 157], [158, 158], [159, 159]]]\n",
    "            ],\n",
    "            [\n",
    "             [[[201, 201], [202, 202], [203, 203]], [[204, 204], [205, 205], [206, 206]], [[207, 207], [208, 208], [209, 209]]],\n",
    "             [[[301, 301], [302, 302], [303, 303]], [[304, 304], [305, 305], [306, 306]], [[307, 307], [308, 308], [309, 309]]],\n",
    "             [[[401, 401], [402, 402], [403, 403]], [[404, 404], [405, 405], [406, 406]], [[407, 407], [408, 408], [409, 409]]]\n",
    "            ]\n",
    "        ]\n",
    "    )\n",
    "    \n",
    "    vgg_generated_images = tf.placeholder(tf.float32, shape=(batch, height, width, feature))\n",
    "    \n",
    "    init_vgg_generated_images = np.array(\n",
    "        [\n",
    "            [[[5, 113], [2, 2], [3, 3]], [[4, 4], [5, 5], [6, 6]], [[7, 7], [8, 8], [9, 9]]],\n",
    "            [[[11, 11], [12, 12], [13, 13]], [[14, 14], [15, 15], [16, 16]], [[17, 17], [18, 18], [19, 19]]]\n",
    "        ])\n",
    "\n",
    "    vgg_generatd_images_repeat_by_style_n_best = tf.tile(vgg_generated_images, [1, style_n_best, 1, 1])\n",
    "    vgg_generatd_images_repeat_by_style_n_best = tf.reshape(vgg_generatd_images_repeat_by_style_n_best, [batch, style_n_best, height, width, feature])\n",
    "\n",
    "    normalize_g = tf.nn.l2_normalize(vgg_generatd_images_repeat_by_style_n_best, 4)\n",
    "    normalize_s = tf.nn.l2_normalize(vgg_style_best, 4)\n",
    "\n",
    "    cos_distance = tf.squeeze((1 - tf.reduce_sum(tf.multiply(normalize_g, normalize_s), 4)))\n",
    "    cos_distance_min = tf.reduce_min(cos_distance, 1)\n",
    "    style_loss = tf.reduce_mean(cos_distance_min)\n",
    "    \n",
    "    feed_dict = {vgg_style_best: init_vgg_style_best, vgg_generated_images: init_vgg_generated_images}\n",
    "    \n",
    "    out, out_c = sess.run([style_loss, cos_distance], feed_dict=feed_dict)\n",
    "#     out, out_c_m, out_c, n_g, n_s, g, s  = sess.run([style_loss, cos_distance_min, cos_distance, normalize_g, normalize_s, vgg_generatd_images_repeat_by_style_n_best, vgg_style_best], feed_dict=feed_dict)"
   ]
  },
  {
   "cell_type": "code",
   "execution_count": 163,
   "metadata": {},
   "outputs": [
    {
     "data": {
      "text/plain": [
       "0.014573806"
      ]
     },
     "execution_count": 163,
     "metadata": {},
     "output_type": "execute_result"
    }
   ],
   "source": [
    "out"
   ]
  },
  {
   "cell_type": "code",
   "execution_count": 160,
   "metadata": {},
   "outputs": [
    {
     "name": "stdout",
     "output_type": "stream",
     "text": [
      "0.520581\n"
     ]
    }
   ],
   "source": [
    "with tf.Session() as sess:\n",
    "    normalize_g = tf.nn.l2_normalize([  255.,   125.], dim=0)\n",
    "    normalize_s = tf.nn.l2_normalize([   5.,    113.], dim=0)\n",
    "    print(sess.run(tf.losses.cosine_distance(normalize_g, normalize_s, dim=0)))"
   ]
  },
  {
   "cell_type": "code",
   "execution_count": 162,
   "metadata": {},
   "outputs": [
    {
     "data": {
      "text/plain": [
       "array([[[[  5.20580828e-01,   5.96046448e-08,   1.78813934e-07],\n",
       "         [  1.78813934e-07,   1.19209290e-07,   1.19209290e-07],\n",
       "         [  5.96046448e-08,   1.19209290e-07,   1.78813934e-07]],\n",
       "\n",
       "        [[  2.62327075e-01,   1.78813934e-07,   5.96046448e-08],\n",
       "         [  5.96046448e-08,   1.19209290e-07,   1.19209290e-07],\n",
       "         [  1.19209290e-07,   1.19209290e-07,   1.19209290e-07]],\n",
       "\n",
       "        [[  2.62327075e-01,   1.19209290e-07,   1.19209290e-07],\n",
       "         [  1.19209290e-07,   1.19209290e-07,   1.78813934e-07],\n",
       "         [  1.19209290e-07,   1.78813934e-07,   1.19209290e-07]]],\n",
       "\n",
       "\n",
       "       [[[  5.96046448e-08,   1.78813934e-07,   1.19209290e-07],\n",
       "         [  5.96046448e-08,   1.19209290e-07,   1.78813934e-07],\n",
       "         [  1.19209290e-07,   1.78813934e-07,   5.96046448e-08]],\n",
       "\n",
       "        [[  0.00000000e+00,   1.19209290e-07,   1.19209290e-07],\n",
       "         [  1.19209290e-07,   1.78813934e-07,   1.19209290e-07],\n",
       "         [  5.96046448e-08,   1.19209290e-07,   1.19209290e-07]],\n",
       "\n",
       "        [[  5.96046448e-08,   1.19209290e-07,   1.19209290e-07],\n",
       "         [  1.78813934e-07,   1.19209290e-07,   1.19209290e-07],\n",
       "         [  1.19209290e-07,   1.19209290e-07,   0.00000000e+00]]]], dtype=float32)"
      ]
     },
     "execution_count": 162,
     "metadata": {},
     "output_type": "execute_result"
    }
   ],
   "source": [
    "out_c"
   ]
  },
  {
   "cell_type": "code",
   "execution_count": 147,
   "metadata": {},
   "outputs": [
    {
     "data": {
      "text/plain": [
       "array([[[[[  1.,  10.],\n",
       "          [  2.,   2.],\n",
       "          [  3.,   3.]],\n",
       "\n",
       "         [[  4.,   4.],\n",
       "          [  5.,   5.],\n",
       "          [  6.,   6.]],\n",
       "\n",
       "         [[  7.,   7.],\n",
       "          [  8.,   8.],\n",
       "          [  9.,   9.]]],\n",
       "\n",
       "\n",
       "        [[[  1.,  10.],\n",
       "          [  2.,   2.],\n",
       "          [  3.,   3.]],\n",
       "\n",
       "         [[  4.,   4.],\n",
       "          [  5.,   5.],\n",
       "          [  6.,   6.]],\n",
       "\n",
       "         [[  7.,   7.],\n",
       "          [  8.,   8.],\n",
       "          [  9.,   9.]]],\n",
       "\n",
       "\n",
       "        [[[  1.,  10.],\n",
       "          [  2.,   2.],\n",
       "          [  3.,   3.]],\n",
       "\n",
       "         [[  4.,   4.],\n",
       "          [  5.,   5.],\n",
       "          [  6.,   6.]],\n",
       "\n",
       "         [[  7.,   7.],\n",
       "          [  8.,   8.],\n",
       "          [  9.,   9.]]]],\n",
       "\n",
       "\n",
       "\n",
       "       [[[[ 11.,  11.],\n",
       "          [ 12.,  12.],\n",
       "          [ 13.,  13.]],\n",
       "\n",
       "         [[ 14.,  14.],\n",
       "          [ 15.,  15.],\n",
       "          [ 16.,  16.]],\n",
       "\n",
       "         [[ 17.,  17.],\n",
       "          [ 18.,  18.],\n",
       "          [ 19.,  19.]]],\n",
       "\n",
       "\n",
       "        [[[ 11.,  11.],\n",
       "          [ 12.,  12.],\n",
       "          [ 13.,  13.]],\n",
       "\n",
       "         [[ 14.,  14.],\n",
       "          [ 15.,  15.],\n",
       "          [ 16.,  16.]],\n",
       "\n",
       "         [[ 17.,  17.],\n",
       "          [ 18.,  18.],\n",
       "          [ 19.,  19.]]],\n",
       "\n",
       "\n",
       "        [[[ 11.,  11.],\n",
       "          [ 12.,  12.],\n",
       "          [ 13.,  13.]],\n",
       "\n",
       "         [[ 14.,  14.],\n",
       "          [ 15.,  15.],\n",
       "          [ 16.,  16.]],\n",
       "\n",
       "         [[ 17.,  17.],\n",
       "          [ 18.,  18.],\n",
       "          [ 19.,  19.]]]]], dtype=float32)"
      ]
     },
     "execution_count": 147,
     "metadata": {},
     "output_type": "execute_result"
    }
   ],
   "source": [
    "g"
   ]
  },
  {
   "cell_type": "code",
   "execution_count": 148,
   "metadata": {},
   "outputs": [
    {
     "data": {
      "text/plain": [
       "array([[[[[ 101.,  110.],\n",
       "          [ 102.,  102.],\n",
       "          [ 103.,  103.]],\n",
       "\n",
       "         [[ 104.,  104.],\n",
       "          [ 105.,  105.],\n",
       "          [ 106.,  106.]],\n",
       "\n",
       "         [[ 107.,  107.],\n",
       "          [ 108.,  108.],\n",
       "          [ 109.,  109.]]],\n",
       "\n",
       "\n",
       "        [[[ 111.,  111.],\n",
       "          [ 112.,  112.],\n",
       "          [ 113.,  113.]],\n",
       "\n",
       "         [[ 114.,  114.],\n",
       "          [ 115.,  115.],\n",
       "          [ 116.,  116.]],\n",
       "\n",
       "         [[ 117.,  117.],\n",
       "          [ 118.,  118.],\n",
       "          [ 119.,  119.]]],\n",
       "\n",
       "\n",
       "        [[[ 151.,  151.],\n",
       "          [ 152.,  152.],\n",
       "          [ 153.,  153.]],\n",
       "\n",
       "         [[ 154.,  154.],\n",
       "          [ 155.,  155.],\n",
       "          [ 156.,  156.]],\n",
       "\n",
       "         [[ 157.,  157.],\n",
       "          [ 158.,  158.],\n",
       "          [ 159.,  159.]]]],\n",
       "\n",
       "\n",
       "\n",
       "       [[[[ 201.,  201.],\n",
       "          [ 202.,  202.],\n",
       "          [ 203.,  203.]],\n",
       "\n",
       "         [[ 204.,  204.],\n",
       "          [ 205.,  205.],\n",
       "          [ 206.,  206.]],\n",
       "\n",
       "         [[ 207.,  207.],\n",
       "          [ 208.,  208.],\n",
       "          [ 209.,  209.]]],\n",
       "\n",
       "\n",
       "        [[[ 301.,  301.],\n",
       "          [ 302.,  302.],\n",
       "          [ 303.,  303.]],\n",
       "\n",
       "         [[ 304.,  304.],\n",
       "          [ 305.,  305.],\n",
       "          [ 306.,  306.]],\n",
       "\n",
       "         [[ 307.,  307.],\n",
       "          [ 308.,  308.],\n",
       "          [ 309.,  309.]]],\n",
       "\n",
       "\n",
       "        [[[ 401.,  401.],\n",
       "          [ 402.,  402.],\n",
       "          [ 403.,  403.]],\n",
       "\n",
       "         [[ 404.,  404.],\n",
       "          [ 405.,  405.],\n",
       "          [ 406.,  406.]],\n",
       "\n",
       "         [[ 407.,  407.],\n",
       "          [ 408.,  408.],\n",
       "          [ 409.,  409.]]]]], dtype=float32)"
      ]
     },
     "execution_count": 148,
     "metadata": {},
     "output_type": "execute_result"
    }
   ],
   "source": [
    "s"
   ]
  },
  {
   "cell_type": "code",
   "execution_count": 149,
   "metadata": {},
   "outputs": [
    {
     "data": {
      "text/plain": [
       "array([[[[[ 0.09950372,  0.9950372 ],\n",
       "          [ 0.70710671,  0.70710671],\n",
       "          [ 0.70710671,  0.70710671]],\n",
       "\n",
       "         [[ 0.70710671,  0.70710671],\n",
       "          [ 0.70710671,  0.70710671],\n",
       "          [ 0.70710671,  0.70710671]],\n",
       "\n",
       "         [[ 0.70710671,  0.70710671],\n",
       "          [ 0.70710671,  0.70710671],\n",
       "          [ 0.70710671,  0.70710671]]],\n",
       "\n",
       "\n",
       "        [[[ 0.09950372,  0.9950372 ],\n",
       "          [ 0.70710671,  0.70710671],\n",
       "          [ 0.70710671,  0.70710671]],\n",
       "\n",
       "         [[ 0.70710671,  0.70710671],\n",
       "          [ 0.70710671,  0.70710671],\n",
       "          [ 0.70710671,  0.70710671]],\n",
       "\n",
       "         [[ 0.70710671,  0.70710671],\n",
       "          [ 0.70710671,  0.70710671],\n",
       "          [ 0.70710671,  0.70710671]]],\n",
       "\n",
       "\n",
       "        [[[ 0.09950372,  0.9950372 ],\n",
       "          [ 0.70710671,  0.70710671],\n",
       "          [ 0.70710671,  0.70710671]],\n",
       "\n",
       "         [[ 0.70710671,  0.70710671],\n",
       "          [ 0.70710671,  0.70710671],\n",
       "          [ 0.70710671,  0.70710671]],\n",
       "\n",
       "         [[ 0.70710671,  0.70710671],\n",
       "          [ 0.70710671,  0.70710671],\n",
       "          [ 0.70710671,  0.70710671]]]],\n",
       "\n",
       "\n",
       "\n",
       "       [[[[ 0.70710677,  0.70710677],\n",
       "          [ 0.70710671,  0.70710671],\n",
       "          [ 0.70710671,  0.70710671]],\n",
       "\n",
       "         [[ 0.70710671,  0.70710671],\n",
       "          [ 0.70710671,  0.70710671],\n",
       "          [ 0.70710671,  0.70710671]],\n",
       "\n",
       "         [[ 0.70710677,  0.70710677],\n",
       "          [ 0.70710671,  0.70710671],\n",
       "          [ 0.70710677,  0.70710677]]],\n",
       "\n",
       "\n",
       "        [[[ 0.70710677,  0.70710677],\n",
       "          [ 0.70710671,  0.70710671],\n",
       "          [ 0.70710671,  0.70710671]],\n",
       "\n",
       "         [[ 0.70710671,  0.70710671],\n",
       "          [ 0.70710671,  0.70710671],\n",
       "          [ 0.70710671,  0.70710671]],\n",
       "\n",
       "         [[ 0.70710677,  0.70710677],\n",
       "          [ 0.70710671,  0.70710671],\n",
       "          [ 0.70710677,  0.70710677]]],\n",
       "\n",
       "\n",
       "        [[[ 0.70710677,  0.70710677],\n",
       "          [ 0.70710671,  0.70710671],\n",
       "          [ 0.70710671,  0.70710671]],\n",
       "\n",
       "         [[ 0.70710671,  0.70710671],\n",
       "          [ 0.70710671,  0.70710671],\n",
       "          [ 0.70710671,  0.70710671]],\n",
       "\n",
       "         [[ 0.70710677,  0.70710677],\n",
       "          [ 0.70710671,  0.70710671],\n",
       "          [ 0.70710677,  0.70710677]]]]], dtype=float32)"
      ]
     },
     "execution_count": 149,
     "metadata": {},
     "output_type": "execute_result"
    }
   ],
   "source": [
    "n_g"
   ]
  },
  {
   "cell_type": "code",
   "execution_count": 150,
   "metadata": {},
   "outputs": [
    {
     "data": {
      "text/plain": [
       "array([[[[[ 0.6763308 ,  0.73659796],\n",
       "          [ 0.70710683,  0.70710683],\n",
       "          [ 0.70710671,  0.70710671]],\n",
       "\n",
       "         [[ 0.70710671,  0.70710671],\n",
       "          [ 0.70710677,  0.70710677],\n",
       "          [ 0.70710677,  0.70710677]],\n",
       "\n",
       "         [[ 0.70710683,  0.70710683],\n",
       "          [ 0.70710677,  0.70710677],\n",
       "          [ 0.70710671,  0.70710671]]],\n",
       "\n",
       "\n",
       "        [[[ 0.70710677,  0.70710677],\n",
       "          [ 0.70710671,  0.70710671],\n",
       "          [ 0.70710683,  0.70710683]],\n",
       "\n",
       "         [[ 0.70710683,  0.70710683],\n",
       "          [ 0.70710677,  0.70710677],\n",
       "          [ 0.70710677,  0.70710677]],\n",
       "\n",
       "         [[ 0.70710677,  0.70710677],\n",
       "          [ 0.70710677,  0.70710677],\n",
       "          [ 0.70710677,  0.70710677]]],\n",
       "\n",
       "\n",
       "        [[[ 0.70710677,  0.70710677],\n",
       "          [ 0.70710677,  0.70710677],\n",
       "          [ 0.70710677,  0.70710677]],\n",
       "\n",
       "         [[ 0.70710677,  0.70710677],\n",
       "          [ 0.70710677,  0.70710677],\n",
       "          [ 0.70710671,  0.70710671]],\n",
       "\n",
       "         [[ 0.70710677,  0.70710677],\n",
       "          [ 0.70710671,  0.70710671],\n",
       "          [ 0.70710677,  0.70710677]]]],\n",
       "\n",
       "\n",
       "\n",
       "       [[[[ 0.70710677,  0.70710677],\n",
       "          [ 0.70710671,  0.70710671],\n",
       "          [ 0.70710677,  0.70710677]],\n",
       "\n",
       "         [[ 0.70710683,  0.70710683],\n",
       "          [ 0.70710677,  0.70710677],\n",
       "          [ 0.70710671,  0.70710671]],\n",
       "\n",
       "         [[ 0.70710671,  0.70710671],\n",
       "          [ 0.70710671,  0.70710671],\n",
       "          [ 0.70710677,  0.70710677]]],\n",
       "\n",
       "\n",
       "        [[[ 0.70710683,  0.70710683],\n",
       "          [ 0.70710677,  0.70710677],\n",
       "          [ 0.70710677,  0.70710677]],\n",
       "\n",
       "         [[ 0.70710677,  0.70710677],\n",
       "          [ 0.70710671,  0.70710671],\n",
       "          [ 0.70710677,  0.70710677]],\n",
       "\n",
       "         [[ 0.70710677,  0.70710677],\n",
       "          [ 0.70710677,  0.70710677],\n",
       "          [ 0.70710671,  0.70710671]]],\n",
       "\n",
       "\n",
       "        [[[ 0.70710677,  0.70710677],\n",
       "          [ 0.70710677,  0.70710677],\n",
       "          [ 0.70710677,  0.70710677]],\n",
       "\n",
       "         [[ 0.70710671,  0.70710671],\n",
       "          [ 0.70710677,  0.70710677],\n",
       "          [ 0.70710677,  0.70710677]],\n",
       "\n",
       "         [[ 0.70710671,  0.70710671],\n",
       "          [ 0.70710677,  0.70710677],\n",
       "          [ 0.70710683,  0.70710683]]]]], dtype=float32)"
      ]
     },
     "execution_count": 150,
     "metadata": {},
     "output_type": "execute_result"
    }
   ],
   "source": [
    "n_s"
   ]
  },
  {
   "cell_type": "code",
   "execution_count": 132,
   "metadata": {},
   "outputs": [
    {
     "data": {
      "text/plain": [
       "(2, 3, 3, 3)"
      ]
     },
     "execution_count": 132,
     "metadata": {},
     "output_type": "execute_result"
    }
   ],
   "source": [
    "np.asarray(out_c).shape"
   ]
  },
  {
   "cell_type": "code",
   "execution_count": 152,
   "metadata": {},
   "outputs": [
    {
     "data": {
      "text/plain": [
       "array([[[[  1.99760199e-01,   5.96046448e-08,   1.78813934e-07],\n",
       "         [  1.78813934e-07,   1.19209290e-07,   1.19209290e-07],\n",
       "         [  5.96046448e-08,   1.19209290e-07,   1.78813934e-07]],\n",
       "\n",
       "        [[  2.26042688e-01,   1.78813934e-07,   5.96046448e-08],\n",
       "         [  5.96046448e-08,   1.19209290e-07,   1.19209290e-07],\n",
       "         [  1.19209290e-07,   1.19209290e-07,   1.19209290e-07]],\n",
       "\n",
       "        [[  2.26042688e-01,   1.19209290e-07,   1.19209290e-07],\n",
       "         [  1.19209290e-07,   1.19209290e-07,   1.78813934e-07],\n",
       "         [  1.19209290e-07,   1.78813934e-07,   1.19209290e-07]]],\n",
       "\n",
       "\n",
       "       [[[  5.96046448e-08,   1.78813934e-07,   1.19209290e-07],\n",
       "         [  5.96046448e-08,   1.19209290e-07,   1.78813934e-07],\n",
       "         [  1.19209290e-07,   1.78813934e-07,   5.96046448e-08]],\n",
       "\n",
       "        [[  0.00000000e+00,   1.19209290e-07,   1.19209290e-07],\n",
       "         [  1.19209290e-07,   1.78813934e-07,   1.19209290e-07],\n",
       "         [  5.96046448e-08,   1.19209290e-07,   1.19209290e-07]],\n",
       "\n",
       "        [[  5.96046448e-08,   1.19209290e-07,   1.19209290e-07],\n",
       "         [  1.78813934e-07,   1.19209290e-07,   1.19209290e-07],\n",
       "         [  1.19209290e-07,   1.19209290e-07,   0.00000000e+00]]]], dtype=float32)"
      ]
     },
     "execution_count": 152,
     "metadata": {},
     "output_type": "execute_result"
    }
   ],
   "source": [
    "out_c"
   ]
  },
  {
   "cell_type": "code",
   "execution_count": 151,
   "metadata": {},
   "outputs": [
    {
     "name": "stdout",
     "output_type": "stream",
     "text": [
      "[ 0.09950373  0.99503726]\n",
      "[ 0.67633086  0.73659796]\n",
      "0.19976\n"
     ]
    }
   ],
   "source": [
    "with tf.Session() as sess:\n",
    "    normalize_g = tf.nn.l2_normalize([  1.,   10.], dim=0)\n",
    "    normalize_s = tf.nn.l2_normalize([   101.,    110.], dim=0)\n",
    "    print(sess.run(normalize_g)) #0.70710671\n",
    "    print(sess.run(normalize_s))\n",
    "    print(sess.run(tf.losses.cosine_distance(normalize_g, normalize_s, dim=0)))"
   ]
  },
  {
   "cell_type": "code",
   "execution_count": 128,
   "metadata": {},
   "outputs": [
    {
     "data": {
      "text/plain": [
       "<tf.Tensor 'l2_normalize_21:0' shape=(2,) dtype=float32>"
      ]
     },
     "execution_count": 128,
     "metadata": {},
     "output_type": "execute_result"
    }
   ],
   "source": [
    "normalize_g"
   ]
  },
  {
   "cell_type": "code",
   "execution_count": null,
   "metadata": {
    "collapsed": true
   },
   "outputs": [],
   "source": []
  }
 ],
 "metadata": {
  "kernelspec": {
   "display_name": "Python 3",
   "language": "python",
   "name": "python3"
  },
  "language_info": {
   "codemirror_mode": {
    "name": "ipython",
    "version": 3
   },
   "file_extension": ".py",
   "mimetype": "text/x-python",
   "name": "python",
   "nbconvert_exporter": "python",
   "pygments_lexer": "ipython3",
   "version": "3.6.1"
  }
 },
 "nbformat": 4,
 "nbformat_minor": 2
}
