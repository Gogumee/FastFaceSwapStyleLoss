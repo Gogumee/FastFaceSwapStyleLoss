{
 "cells": [
  {
   "cell_type": "code",
   "execution_count": 1,
   "metadata": {
    "collapsed": true
   },
   "outputs": [],
   "source": [
    "import numpy as np\n",
    "import tensorflow as tf"
   ]
  },
  {
   "cell_type": "code",
   "execution_count": 9,
   "metadata": {
    "collapsed": true
   },
   "outputs": [],
   "source": [
    "# parmeters\n",
    "batch, height, width, channel = 5, 3, 3, 2\n",
    "test_landmarks = 2*2\n",
    "test_style_images_num = 5\n",
    "test_style_n_best = 3"
   ]
  },
  {
   "cell_type": "code",
   "execution_count": 31,
   "metadata": {},
   "outputs": [],
   "source": [
    "with tf.Session() as sess:    \n",
    "    style_images = tf.placeholder(tf.float32, shape=(batch, height, width, channel))\n",
    "    \n",
    "    init_style_images = np.array(\n",
    "        [\n",
    "            [[[201, 201], [202, 202], [203, 203]], [[204, 204], [205, 205], [206, 206]], [[207, 207], [208, 208], [209, 209]]],\n",
    "            [[[301, 301], [302, 302], [303, 303]], [[304, 304], [305, 305], [306, 306]], [[307, 307], [308, 308], [309, 309]]],\n",
    "            [[[401, 401], [402, 402], [403, 403]], [[404, 404], [405, 405], [406, 406]], [[407, 407], [408, 408], [409, 409]]],\n",
    "            [[[501, 501], [502, 502], [503, 503]], [[504, 504], [505, 505], [506, 506]], [[507, 507], [508, 508], [509, 509]]],\n",
    "            [[[601, 601], [602, 602], [603, 603]], [[604, 604], [605, 605], [606, 606]], [[607, 607], [608, 608], [609, 609]]]\n",
    "        ])\n",
    "    \n",
    "    test = tf.reduce_sum(style_images)\n",
    "    test_0 = tf.reduce_sum(style_images, axis=0)\n",
    "    test_1 = tf.reduce_sum(style_images, axis=1)\n",
    "    test_2 = tf.reduce_sum(style_images, axis=2)\n",
    "    test_3 = tf.reduce_sum(style_images, axis=3)\n",
    "            \n",
    "    feed_dict = {\n",
    "        style_images: init_style_images,\n",
    "    }\n",
    "\n",
    "    out, out0, out1, out2, out3 = sess.run([test, test_0, test_1, test_2, test_3], feed_dict=feed_dict)"
   ]
  },
  {
   "cell_type": "code",
   "execution_count": 32,
   "metadata": {},
   "outputs": [
    {
     "data": {
      "text/plain": [
       "36450.0"
      ]
     },
     "execution_count": 32,
     "metadata": {},
     "output_type": "execute_result"
    }
   ],
   "source": [
    "out"
   ]
  },
  {
   "cell_type": "code",
   "execution_count": 33,
   "metadata": {},
   "outputs": [
    {
     "data": {
      "text/plain": [
       "array([[[ 2005.,  2005.],\n",
       "        [ 2010.,  2010.],\n",
       "        [ 2015.,  2015.]],\n",
       "\n",
       "       [[ 2020.,  2020.],\n",
       "        [ 2025.,  2025.],\n",
       "        [ 2030.,  2030.]],\n",
       "\n",
       "       [[ 2035.,  2035.],\n",
       "        [ 2040.,  2040.],\n",
       "        [ 2045.,  2045.]]], dtype=float32)"
      ]
     },
     "execution_count": 33,
     "metadata": {},
     "output_type": "execute_result"
    }
   ],
   "source": [
    "out0"
   ]
  },
  {
   "cell_type": "code",
   "execution_count": 34,
   "metadata": {},
   "outputs": [
    {
     "data": {
      "text/plain": [
       "array([[[  612.,   612.],\n",
       "        [  615.,   615.],\n",
       "        [  618.,   618.]],\n",
       "\n",
       "       [[  912.,   912.],\n",
       "        [  915.,   915.],\n",
       "        [  918.,   918.]],\n",
       "\n",
       "       [[ 1212.,  1212.],\n",
       "        [ 1215.,  1215.],\n",
       "        [ 1218.,  1218.]],\n",
       "\n",
       "       [[ 1512.,  1512.],\n",
       "        [ 1515.,  1515.],\n",
       "        [ 1518.,  1518.]],\n",
       "\n",
       "       [[ 1812.,  1812.],\n",
       "        [ 1815.,  1815.],\n",
       "        [ 1818.,  1818.]]], dtype=float32)"
      ]
     },
     "execution_count": 34,
     "metadata": {},
     "output_type": "execute_result"
    }
   ],
   "source": [
    "out1"
   ]
  },
  {
   "cell_type": "code",
   "execution_count": 35,
   "metadata": {},
   "outputs": [
    {
     "data": {
      "text/plain": [
       "array([[[  606.,   606.],\n",
       "        [  615.,   615.],\n",
       "        [  624.,   624.]],\n",
       "\n",
       "       [[  906.,   906.],\n",
       "        [  915.,   915.],\n",
       "        [  924.,   924.]],\n",
       "\n",
       "       [[ 1206.,  1206.],\n",
       "        [ 1215.,  1215.],\n",
       "        [ 1224.,  1224.]],\n",
       "\n",
       "       [[ 1506.,  1506.],\n",
       "        [ 1515.,  1515.],\n",
       "        [ 1524.,  1524.]],\n",
       "\n",
       "       [[ 1806.,  1806.],\n",
       "        [ 1815.,  1815.],\n",
       "        [ 1824.,  1824.]]], dtype=float32)"
      ]
     },
     "execution_count": 35,
     "metadata": {},
     "output_type": "execute_result"
    }
   ],
   "source": [
    "out2"
   ]
  },
  {
   "cell_type": "code",
   "execution_count": 36,
   "metadata": {},
   "outputs": [
    {
     "data": {
      "text/plain": [
       "array([[[  402.,   404.,   406.],\n",
       "        [  408.,   410.,   412.],\n",
       "        [  414.,   416.,   418.]],\n",
       "\n",
       "       [[  602.,   604.,   606.],\n",
       "        [  608.,   610.,   612.],\n",
       "        [  614.,   616.,   618.]],\n",
       "\n",
       "       [[  802.,   804.,   806.],\n",
       "        [  808.,   810.,   812.],\n",
       "        [  814.,   816.,   818.]],\n",
       "\n",
       "       [[ 1002.,  1004.,  1006.],\n",
       "        [ 1008.,  1010.,  1012.],\n",
       "        [ 1014.,  1016.,  1018.]],\n",
       "\n",
       "       [[ 1202.,  1204.,  1206.],\n",
       "        [ 1208.,  1210.,  1212.],\n",
       "        [ 1214.,  1216.,  1218.]]], dtype=float32)"
      ]
     },
     "execution_count": 36,
     "metadata": {},
     "output_type": "execute_result"
    }
   ],
   "source": [
    "out3"
   ]
  },
  {
   "cell_type": "code",
   "execution_count": null,
   "metadata": {
    "collapsed": true
   },
   "outputs": [],
   "source": []
  }
 ],
 "metadata": {
  "kernelspec": {
   "display_name": "Python 3",
   "language": "python",
   "name": "python3"
  },
  "language_info": {
   "codemirror_mode": {
    "name": "ipython",
    "version": 3
   },
   "file_extension": ".py",
   "mimetype": "text/x-python",
   "name": "python",
   "nbconvert_exporter": "python",
   "pygments_lexer": "ipython3",
   "version": "3.6.1"
  }
 },
 "nbformat": 4,
 "nbformat_minor": 2
}
