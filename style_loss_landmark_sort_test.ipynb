{
 "cells": [
  {
   "cell_type": "code",
   "execution_count": 2,
   "metadata": {
    "collapsed": true
   },
   "outputs": [],
   "source": [
    "import tensorflow as tf\n",
    "import numpy as np"
   ]
  },
  {
   "cell_type": "code",
   "execution_count": 45,
   "metadata": {},
   "outputs": [
    {
     "name": "stdout",
     "output_type": "stream",
     "text": [
      "(2, 4)\n",
      "TopKV2(values=array([[40, 30],\n",
      "       [40, 30]], dtype=int32), indices=array([[0, 1],\n",
      "       [3, 2]], dtype=int32))\n",
      "[[40 30]\n",
      " [40 30]]\n",
      "[[0 1]\n",
      " [3 2]]\n",
      "30\n"
     ]
    }
   ],
   "source": [
    "sess = tf.InteractiveSession()\n",
    "a = tf.convert_to_tensor([[40, 30, 20, 10], [10, 20, 30, 40]])\n",
    "b = tf.nn.top_k(a, 2)\n",
    "\n",
    "c = tf.gather_nd(a, b.indices[0])\n",
    "# d = tf.gather_nd(a, b.indices)\n",
    "print(a.shape)\n",
    "print(sess.run(b))\n",
    "print(sess.run(b.values))\n",
    "print(sess.run(b.indices))\n",
    "print(c.eval())\n",
    "# print(d.eval())\n",
    "sess.close()"
   ]
  },
  {
   "cell_type": "code",
   "execution_count": 128,
   "metadata": {},
   "outputs": [],
   "source": [
    "with tf.Session() as sess:\n",
    "    batch, height, width, feature = 2, 3, 3, 2\n",
    "    landmarks = 2*2\n",
    "    style_images_num = 5\n",
    "    style_n_best = 4\n",
    "    \n",
    "    x_landmarks = tf.placeholder(tf.float32, shape=(batch, landmarks))\n",
    "    style_landmarks = tf.placeholder(tf.float32, shape=(style_images_num, landmarks))\n",
    "    style_images = tf.placeholder(tf.float32, shape=(style_images_num, height, width, feature))\n",
    "    \n",
    "    init_x_landmarks = np.array(\n",
    "        [\n",
    "            [1,2,3,4],\n",
    "            [9,8,7,6]\n",
    "        ])\n",
    "    \n",
    "    init_style_landmarks = np.array(\n",
    "        [\n",
    "            [11, 12, 13, 14],\n",
    "            [21, 22, 23, 24],\n",
    "            [31, 32, 33, 34],\n",
    "            [41, 42, 43, 44],\n",
    "            [51, 52, 53, 54]\n",
    "        ])\n",
    "    \n",
    "    init_style_images = np.array(\n",
    "        [\n",
    "            [[[201, 201], [202, 202], [203, 203]], [[204, 204], [205, 205], [206, 206]], [[207, 207], [208, 208], [209, 209]]],\n",
    "            [[[301, 301], [302, 302], [303, 303]], [[304, 304], [305, 305], [306, 306]], [[307, 307], [308, 308], [309, 309]]],\n",
    "            [[[401, 401], [402, 402], [403, 403]], [[404, 404], [405, 405], [406, 406]], [[407, 407], [408, 408], [409, 409]]],\n",
    "            [[[501, 501], [502, 502], [503, 503]], [[504, 504], [505, 505], [506, 506]], [[507, 507], [508, 508], [509, 509]]],\n",
    "            [[[601, 601], [602, 602], [603, 603]], [[604, 604], [605, 605], [606, 606]], [[607, 607], [608, 608], [609, 609]]]\n",
    "        ])\n",
    "    \n",
    "    \n",
    "    feed_dict = {\n",
    "        x_landmarks: init_x_landmarks,\n",
    "        style_landmarks: init_style_landmarks,\n",
    "        style_images: init_style_images\n",
    "    }\n",
    "    \n",
    "    x_tile = tf.tile(x_landmarks, [1, style_images_num])\n",
    "    x_tile = tf.reshape(x_tile, [batch, style_images_num, landmarks])\n",
    "    \n",
    "    style_tile = tf.tile(style_landmarks, [batch, 1])\n",
    "    style_tile = tf.reshape(style_tile, [batch, style_images_num, landmarks])\n",
    "    \n",
    "    mse = tf.sqrt(tf.reduce_sum(tf.square(tf.subtract(x_tile, style_tile)), 2))\n",
    "    mse = tf.negative(mse) # 작은 값을 가져와야 하니깐!\n",
    "    sort = tf.nn.top_k(mse, style_n_best)\n",
    "    \n",
    "    style_best = tf.gather(style_images, sort.indices)\n",
    "    \n",
    "    out = sess.run([style_best], feed_dict=feed_dict)"
   ]
  },
  {
   "cell_type": "code",
   "execution_count": 129,
   "metadata": {
    "scrolled": true
   },
   "outputs": [
    {
     "data": {
      "text/plain": [
       "[array([[[[[ 201.,  201.],\n",
       "           [ 202.,  202.],\n",
       "           [ 203.,  203.]],\n",
       " \n",
       "          [[ 204.,  204.],\n",
       "           [ 205.,  205.],\n",
       "           [ 206.,  206.]],\n",
       " \n",
       "          [[ 207.,  207.],\n",
       "           [ 208.,  208.],\n",
       "           [ 209.,  209.]]],\n",
       " \n",
       " \n",
       "         [[[ 301.,  301.],\n",
       "           [ 302.,  302.],\n",
       "           [ 303.,  303.]],\n",
       " \n",
       "          [[ 304.,  304.],\n",
       "           [ 305.,  305.],\n",
       "           [ 306.,  306.]],\n",
       " \n",
       "          [[ 307.,  307.],\n",
       "           [ 308.,  308.],\n",
       "           [ 309.,  309.]]],\n",
       " \n",
       " \n",
       "         [[[ 401.,  401.],\n",
       "           [ 402.,  402.],\n",
       "           [ 403.,  403.]],\n",
       " \n",
       "          [[ 404.,  404.],\n",
       "           [ 405.,  405.],\n",
       "           [ 406.,  406.]],\n",
       " \n",
       "          [[ 407.,  407.],\n",
       "           [ 408.,  408.],\n",
       "           [ 409.,  409.]]],\n",
       " \n",
       " \n",
       "         [[[ 501.,  501.],\n",
       "           [ 502.,  502.],\n",
       "           [ 503.,  503.]],\n",
       " \n",
       "          [[ 504.,  504.],\n",
       "           [ 505.,  505.],\n",
       "           [ 506.,  506.]],\n",
       " \n",
       "          [[ 507.,  507.],\n",
       "           [ 508.,  508.],\n",
       "           [ 509.,  509.]]]],\n",
       " \n",
       " \n",
       " \n",
       "        [[[[ 201.,  201.],\n",
       "           [ 202.,  202.],\n",
       "           [ 203.,  203.]],\n",
       " \n",
       "          [[ 204.,  204.],\n",
       "           [ 205.,  205.],\n",
       "           [ 206.,  206.]],\n",
       " \n",
       "          [[ 207.,  207.],\n",
       "           [ 208.,  208.],\n",
       "           [ 209.,  209.]]],\n",
       " \n",
       " \n",
       "         [[[ 301.,  301.],\n",
       "           [ 302.,  302.],\n",
       "           [ 303.,  303.]],\n",
       " \n",
       "          [[ 304.,  304.],\n",
       "           [ 305.,  305.],\n",
       "           [ 306.,  306.]],\n",
       " \n",
       "          [[ 307.,  307.],\n",
       "           [ 308.,  308.],\n",
       "           [ 309.,  309.]]],\n",
       " \n",
       " \n",
       "         [[[ 401.,  401.],\n",
       "           [ 402.,  402.],\n",
       "           [ 403.,  403.]],\n",
       " \n",
       "          [[ 404.,  404.],\n",
       "           [ 405.,  405.],\n",
       "           [ 406.,  406.]],\n",
       " \n",
       "          [[ 407.,  407.],\n",
       "           [ 408.,  408.],\n",
       "           [ 409.,  409.]]],\n",
       " \n",
       " \n",
       "         [[[ 501.,  501.],\n",
       "           [ 502.,  502.],\n",
       "           [ 503.,  503.]],\n",
       " \n",
       "          [[ 504.,  504.],\n",
       "           [ 505.,  505.],\n",
       "           [ 506.,  506.]],\n",
       " \n",
       "          [[ 507.,  507.],\n",
       "           [ 508.,  508.],\n",
       "           [ 509.,  509.]]]]], dtype=float32)]"
      ]
     },
     "execution_count": 129,
     "metadata": {},
     "output_type": "execute_result"
    }
   ],
   "source": [
    "out"
   ]
  },
  {
   "cell_type": "code",
   "execution_count": 130,
   "metadata": {},
   "outputs": [
    {
     "data": {
      "text/plain": [
       "<tf.Tensor 'Gather_20:0' shape=(2, 4, 3, 3, 2) dtype=float32>"
      ]
     },
     "execution_count": 130,
     "metadata": {},
     "output_type": "execute_result"
    }
   ],
   "source": [
    "style_best"
   ]
  },
  {
   "cell_type": "code",
   "execution_count": 123,
   "metadata": {},
   "outputs": [
    {
     "data": {
      "text/plain": [
       "(1, 2, 2, 3, 3, 2)"
      ]
     },
     "execution_count": 123,
     "metadata": {},
     "output_type": "execute_result"
    }
   ],
   "source": [
    "np.asarray(out).shape"
   ]
  },
  {
   "cell_type": "code",
   "execution_count": 115,
   "metadata": {},
   "outputs": [
    {
     "ename": "AttributeError",
     "evalue": "'list' object has no attribute 'indices'",
     "output_type": "error",
     "traceback": [
      "\u001b[0;31m---------------------------------------------------------------------------\u001b[0m",
      "\u001b[0;31mAttributeError\u001b[0m                            Traceback (most recent call last)",
      "\u001b[0;32m<ipython-input-115-8e035703ea20>\u001b[0m in \u001b[0;36m<module>\u001b[0;34m()\u001b[0m\n\u001b[0;32m----> 1\u001b[0;31m \u001b[0mout\u001b[0m\u001b[0;34m.\u001b[0m\u001b[0mindices\u001b[0m\u001b[0;34m\u001b[0m\u001b[0m\n\u001b[0m",
      "\u001b[0;31mAttributeError\u001b[0m: 'list' object has no attribute 'indices'"
     ]
    }
   ],
   "source": [
    "out.indices"
   ]
  },
  {
   "cell_type": "code",
   "execution_count": 109,
   "metadata": {},
   "outputs": [
    {
     "data": {
      "text/plain": [
       "(1, 2, 2, 2)"
      ]
     },
     "execution_count": 109,
     "metadata": {},
     "output_type": "execute_result"
    }
   ],
   "source": [
    "np.asarray(out).shape"
   ]
  },
  {
   "cell_type": "code",
   "execution_count": null,
   "metadata": {
    "collapsed": true
   },
   "outputs": [],
   "source": [
    "elems = (np.array([1, 2, 3]), np.array([-1, 1, -1]))\n",
    "alternate = map_fn(lambda x: x[0] * x[1], elems, dtype=tf.int64)"
   ]
  }
 ],
 "metadata": {
  "kernelspec": {
   "display_name": "Python 3",
   "language": "python",
   "name": "python3"
  },
  "language_info": {
   "codemirror_mode": {
    "name": "ipython",
    "version": 3
   },
   "file_extension": ".py",
   "mimetype": "text/x-python",
   "name": "python",
   "nbconvert_exporter": "python",
   "pygments_lexer": "ipython3",
   "version": "3.6.1"
  }
 },
 "nbformat": 4,
 "nbformat_minor": 2
}
