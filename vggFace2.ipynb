{
 "cells": [
  {
   "cell_type": "code",
   "execution_count": 1,
   "metadata": {},
   "outputs": [],
   "source": [
    "import os\n",
    "import time\n",
    "import inspect\n",
    "\n",
    "import tensorflow as tf\n",
    "import numpy as np\n",
    "from scipy.io import loadmat\n",
    "\n",
    "import skimage\n",
    "import skimage.io\n",
    "import skimage.transform\n",
    "\n",
    "import warnings\n",
    "warnings.filterwarnings('ignore')\n",
    "\n",
    "import scipy\n",
    "import matplotlib.pyplot as plt\n",
    "plt.ion()"
   ]
  },
  {
   "cell_type": "code",
   "execution_count": 83,
   "metadata": {},
   "outputs": [],
   "source": [
    "class VggFace2:\n",
    "    def __init__(self, vggFace2_mat_path=None):\n",
    "        self.mean_pixel = np.array([131.0912,  103.8827,   91.4953])\n",
    "        \n",
    "#         if vggFace2_mat_path is None:\n",
    "#             path = inspect.getfile(VggFace2)\n",
    "#             path = os.path.abspath(os.path.join(path, os.pardir))\n",
    "#             path = os.path.join(path, \"./matconvnet/senet/senet50_ft-dag.mat\")\n",
    "#             vggFace2_mat_path = path\n",
    "#             print(vggFace2_mat_path)\n",
    "\n",
    "#         print(\"mat file loading...\")\n",
    "        data = loadmat(\"./matconvnet/senet/senet50_ft-dag.mat\")\n",
    "        \n",
    "#         print(\"make data_dict...\")\n",
    "        self.data_dict = {}\n",
    "        for idx in range(len(data['params'][0])):\n",
    "            param_name = data['params'][0][idx][0][0]\n",
    "            param_value = data['params'][0][idx][1]\n",
    "            self.data_dict[param_name] = param_value\n",
    "        \n",
    "#         print(\"make layer info...\")\n",
    "        self.layer_info = {}\n",
    "        self.layers = data['layers'][0]\n",
    "        for idx in range(len(data['layers'][0])):\n",
    "            per_layer_info = {}\n",
    "            \n",
    "            layer_name = self.layers[idx]['name'][0]\n",
    "            layer_type = self.layers[idx]['type'][0]\n",
    "            input_name = self.layers[idx][2][0][0][0]\n",
    "            output_name = self.layers[idx][3][0][0][0]            \n",
    "            params_names = []\n",
    "            if len(self.layers[idx][4]) > 0:\n",
    "                for i in range(len(self.layers[idx][4][0])):\n",
    "                    params_names.append(self.layers[idx][4][0][i][0])\n",
    "            meta_info = {}\n",
    "            if self.layers[idx][5] == None:\n",
    "                meta_info = {None}\n",
    "            else:\n",
    "                for meta_info_name in self.layers[idx][5].dtype.names:\n",
    "                    if meta_info_name in ['numChannels', 'opts']:\n",
    "                        meta_info[meta_info_name] = self.layers[idx][5][meta_info_name][0][0]\n",
    "                    elif meta_info_name in ['pad', 'dilate', 'size', 'stride', 'method', 'poolSize', 'shape']:\n",
    "                        meta_info[meta_info_name] = self.layers[idx][5][meta_info_name][0][0][0]\n",
    "                    elif meta_info_name in ['epsilon', 'hasBias', 'useShortCircuit', 'leak']:\n",
    "                        meta_info[meta_info_name] = self.layers[idx][5][meta_info_name][0][0][0][0]\n",
    "                    else:\n",
    "                        meta_info[meta_info_name] = self.layers[idx][5][meta_info_name][0][0][0][0][0]\n",
    "            per_layer_info['name'] = layer_name\n",
    "            per_layer_info['type'] = layer_type\n",
    "            per_layer_info['input_name'] = input_name\n",
    "            per_layer_info['output_name'] = output_name\n",
    "            per_layer_info['params'] = params_names\n",
    "            per_layer_info['meta'] = meta_info\n",
    "            self.layer_info[layer_name] = per_layer_info\n",
    "\n",
    "#     def _undo():\n",
    "#         out_for_print = out + np.array([131.0912,  103.8827,   91.4953])\n",
    "#         out_for_print = out_for_print/255.0\n",
    "\n",
    "    def build(self, input_image, isImageNormalized=True):\n",
    "        \"\"\"\n",
    "        :param input_image: rgb image [batch, height, width, 3] values scaled [0,1] - when use skimage\n",
    "        \"\"\"\n",
    "        start_time = time.time()\n",
    "        print(\"build model started...\")\n",
    "        if isImageNormalized:\n",
    "            input_image = input_image * 255.0\n",
    "        \n",
    "        input_image = input_image - self.mean_pixel\n",
    "        \n",
    "        if not (input_image.get_shape().as_list()[1:] == [224, 224, 3]):\n",
    "            input_image = tf.image.resize_bicubic(input_image, [224, 224])\n",
    "\n",
    "        current = input_image\n",
    "        for idx, layer in enumerate(self.layers):\n",
    "            name = self.layers['name'][idx][0]\n",
    "            layer_type = self.layers['type'][idx][0]\n",
    "            if layer_type == 'dagnn.Conv':\n",
    "                current = self.conv_layer(current, name)\n",
    "            elif layer_type == 'dagnn.BatchNorm':\n",
    "                current = self.batch_normalization_layer(current, name)\n",
    "            elif layer_type == 'dagnn.ReLU':\n",
    "                current = tf.nn.relu(current)\n",
    "            elif layer_type == 'dagnn.Pooling':\n",
    "                current = self.pooling_layer(current, name)\n",
    "                break\n",
    "#                 print(self.layer_info[name]['params'])\n",
    "#                 print(self.layer_info[name]['meta']['pad'])\n",
    "#                 print(self.layer_info[name]['meta']['size'])\n",
    "#             if name[:4] == 'conv':\n",
    "#                 print(self.layer_info[name]['meta'])\n",
    "        return current\n",
    "\n",
    "    def pooling_layer(self, bottom, name):\n",
    "        with tf.variable_scope(name):\n",
    "            method = self.layer_info[name]['meta']['method']\n",
    "            if method == 'max':\n",
    "                padded_input = tf.pad(bottom, [[0, 0], [0, 1], [0, 1], [0, 0]], \"CONSTANT\")\n",
    "                return tf.nn.max_pool(padded_input, ksize=[1, 3, 3, 1], strides=[1, 2, 2, 1], padding='VALID', name=name)\n",
    "            else: # 'avg'\n",
    "                return tf.nn.avg_pool(bottom, ksize=[1, 7, 7, 1], strides=[1, 1, 1, 1], padding='VALID', name=name)\n",
    "                \n",
    "    # sigma(k) = sqrt(sigma2(k) + EPSILON)\n",
    "    def batch_normalization_layer(self, bottom, name):\n",
    "        with tf.variable_scope(name):\n",
    "            bn_mult = np.squeeze(self.data_dict[name + '_mult'])\n",
    "            bn_bias = np.squeeze(self.data_dict[name + '_bias'])\n",
    "            bn_mu = self.data_dict[name + '_moments'][:, 0]\n",
    "            bn_sigma = self.data_dict[name + '_moments'][:, 1]\n",
    "            return tf.nn.batch_normalization(bottom, bn_mu, (tf.square(bn_sigma)-1e-5), bn_bias, bn_mult, 1e-5, name=name)\n",
    "            \n",
    "    def conv_layer(self, bottom, name):\n",
    "        with tf.variable_scope(name):\n",
    "            kernel = self.get_conv_kernel(name)\n",
    "            bias = self.get_conv_bias(name)\n",
    "            stride = self.get_conv_stride(name)\n",
    "            \n",
    "            conv = tf.nn.conv2d(bottom, kernel, stride, padding='SAME')\n",
    "            return tf.nn.bias_add(conv, bias)\n",
    "\n",
    "    def get_conv_kernel(self, name):\n",
    "        # matconvnet: kernels are [width, height, in_channels, out_channels]\n",
    "        # tensorflow: kernels are [height, width, in_channels, out_channels]\n",
    "        kernel = self.data_dict[name + '_filter']\n",
    "        kernel = np.transpose(kernel, (1, 0, 2, 3))\n",
    "        \n",
    "        return tf.constant(kernel, name=\"kernels\")\n",
    "\n",
    "    def get_conv_stride(self, name):\n",
    "        s = self.layer_info[name]['meta']['stride'][0]\n",
    "#         print(\"stride: \", [1, s, s, 1])\n",
    "        return [1, s, s, 1]\n",
    "        \n",
    "    def get_conv_bias(self, name):\n",
    "        if self.layer_info[name]['meta']['hasBias']:\n",
    "            return tf.constant(self.data_dict[name + '_bias'], name=\"bias\")\n",
    "        else:\n",
    "            bias_size = self.layer_info[name]['meta']['size'][3]\n",
    "            return tf.zeros([bias_size], tf.float32, name=\"bias\")\n",
    "\n",
    "        #all padding is \"SAME\"\n",
    "#     def get_conv_pad(self, name):\n",
    "#         return self.layer_info[name]['meta']['pad']"
   ]
  },
  {
   "cell_type": "code",
   "execution_count": 3,
   "metadata": {},
   "outputs": [],
   "source": [
    "def load_image(path):\n",
    "    # load image\n",
    "    img = skimage.io.imread(path)\n",
    "    # print \"Original Image Shape: \", img.shape\n",
    "    # we crop image from center\n",
    "    short_edge = min(img.shape[:2])\n",
    "    yy = int((img.shape[0] - short_edge) / 2)\n",
    "    xx = int((img.shape[1] - short_edge) / 2)\n",
    "    crop_img = img[yy: yy + short_edge, xx: xx + short_edge]\n",
    "    # resize to 224, 224\n",
    "    resized_img = skimage.transform.resize(crop_img, (128, 128))\n",
    "    return resized_img"
   ]
  },
  {
   "cell_type": "code",
   "execution_count": 4,
   "metadata": {},
   "outputs": [],
   "source": [
    "img1 = load_image(\"./data/61237.jpg\")\n",
    "img1 = img1.reshape((1, 128, 128, 3))\n",
    "\n",
    "# img2 = load_image(\"./data/62607.jpg\")\n",
    "# img2 = img2.reshape((1, 128, 128, 3))\n",
    "\n",
    "# batch = np.concatenate((img1, img2), 0)"
   ]
  },
  {
   "cell_type": "code",
   "execution_count": 81,
   "metadata": {
    "scrolled": false
   },
   "outputs": [
    {
     "name": "stdout",
     "output_type": "stream",
     "text": [
      "build model started...\n",
      "here\n"
     ]
    }
   ],
   "source": [
    "with tf.Session() as sess:\n",
    "    image = tf.placeholder(\"float\", [1, 128, 128, 3])\n",
    "    feed_dict = {image: img1}\n",
    "    \n",
    "    vggFace2 = VggFace2()\n",
    "    vggFace2_out = vggFace2.build(image)\n",
    "    out = sess.run(vggFace2_out, feed_dict=feed_dict)"
   ]
  },
  {
   "cell_type": "code",
   "execution_count": 84,
   "metadata": {},
   "outputs": [
    {
     "data": {
      "text/plain": [
       "(1, 56, 56, 64)"
      ]
     },
     "execution_count": 84,
     "metadata": {},
     "output_type": "execute_result"
    }
   ],
   "source": [
    "out.shape"
   ]
  },
  {
   "cell_type": "code",
   "execution_count": 61,
   "metadata": {},
   "outputs": [
    {
     "data": {
      "text/plain": [
       "(1, 112, 112, 64)"
      ]
     },
     "execution_count": 61,
     "metadata": {},
     "output_type": "execute_result"
    }
   ],
   "source": [
    "out.shape"
   ]
  },
  {
   "cell_type": "code",
   "execution_count": 85,
   "metadata": {
    "scrolled": true
   },
   "outputs": [
    {
     "data": {
      "text/plain": [
       "array([[[[  1.07548571e+00,   4.31341410e-01,   1.38468170e+00, ...,\n",
       "            1.02378273e+00,   2.18598986e+00,   1.89947057e+00],\n",
       "         [  6.42519236e-01,   4.84647870e-01,   1.40372527e+00, ...,\n",
       "            1.01275265e+00,   8.87552381e-01,   1.18410695e+00],\n",
       "         [  6.72443151e-01,   5.18694162e-01,   1.40084183e+00, ...,\n",
       "            9.85560477e-01,   8.62509429e-01,   1.13173604e+00],\n",
       "         ..., \n",
       "         [  9.69268084e-01,   6.34849548e-01,   1.46301234e+00, ...,\n",
       "            1.06290269e+00,   1.16183054e+00,   1.15459418e+00],\n",
       "         [  9.60565329e-01,   6.07866168e-01,   1.45852602e+00, ...,\n",
       "            1.07158399e+00,   1.09197557e+00,   1.10823345e+00],\n",
       "         [  4.22911882e-01,   0.00000000e+00,   1.45253634e+00, ...,\n",
       "            9.67682004e-01,   2.54061431e-01,   7.34573030e+00]],\n",
       "\n",
       "        [[  1.04349184e+00,   4.31341410e-01,   1.47221661e+00, ...,\n",
       "            8.66121888e-01,   2.17057085e+00,   1.47645783e+00],\n",
       "         [  6.51092529e-01,   4.84647870e-01,   1.40555155e+00, ...,\n",
       "            8.54383409e-01,   7.71281660e-01,   1.16405296e+00],\n",
       "         [  6.67943001e-01,   5.04633665e-01,   1.52645016e+00, ...,\n",
       "            8.36847484e-01,   7.54064262e-01,   1.14776897e+00],\n",
       "         ..., \n",
       "         [  9.66505766e-01,   6.18732929e-01,   1.47686720e+00, ...,\n",
       "            8.86807859e-01,   1.12931275e+00,   1.12767661e+00],\n",
       "         [  9.60565329e-01,   6.07866168e-01,   1.49999881e+00, ...,\n",
       "            8.94771755e-01,   1.04232955e+00,   1.12767661e+00],\n",
       "         [  4.22911882e-01,   0.00000000e+00,   1.49999881e+00, ...,\n",
       "            7.60013580e-01,   3.92073393e-03,   7.34573030e+00]],\n",
       "\n",
       "        [[  9.87370014e-01,   4.20819998e-01,   1.47221661e+00, ...,\n",
       "            8.44685018e-01,   2.08906722e+00,   1.39515913e+00],\n",
       "         [  6.44222736e-01,   4.65935946e-01,   1.46984649e+00, ...,\n",
       "            8.38304639e-01,   7.71281660e-01,   1.13802040e+00],\n",
       "         [  6.22225046e-01,   4.73690391e-01,   1.52645016e+00, ...,\n",
       "            8.28317344e-01,   7.47329712e-01,   1.13802040e+00],\n",
       "         ..., \n",
       "         [  8.59461546e-01,   5.14481425e-01,   1.52666640e+00, ...,\n",
       "            8.75816107e-01,   1.11849797e+00,   1.20033944e+00],\n",
       "         [  8.87365580e-01,   5.27792573e-01,   1.53478491e+00, ...,\n",
       "            8.86112094e-01,   1.04398036e+00,   1.11703384e+00],\n",
       "         [  3.83846521e-01,   0.00000000e+00,   1.53478491e+00, ...,\n",
       "            7.53292084e-01,   4.26632762e-02,   7.22233105e+00]],\n",
       "\n",
       "        ..., \n",
       "        [[  1.17307305e+00,   4.04914141e-01,   1.60976791e+00, ...,\n",
       "            8.72583687e-01,   2.28915167e+00,   1.38538170e+00],\n",
       "         [  7.39494085e-01,   3.76167536e-01,   1.79894888e+00, ...,\n",
       "            8.66661429e-01,   8.47325206e-01,   1.16550672e+00],\n",
       "         [  6.70655966e-01,   2.92905211e-01,   1.81178451e+00, ...,\n",
       "            8.50826919e-01,   8.01284611e-01,   1.14657056e+00],\n",
       "         ..., \n",
       "         [  8.79206657e-01,   5.79970956e-01,   1.41652167e+00, ...,\n",
       "            9.13915455e-01,   1.02247798e+00,   1.11428928e+00],\n",
       "         [  8.81294489e-01,   5.43252587e-01,   1.41400957e+00, ...,\n",
       "            9.18778777e-01,   9.80276823e-01,   1.10861242e+00],\n",
       "         [  3.59014988e-01,   0.00000000e+00,   1.41249394e+00, ...,\n",
       "            7.82907486e-01,   0.00000000e+00,   7.17113447e+00]],\n",
       "\n",
       "        [[  8.91436815e-01,   1.74347401e-01,   1.60976791e+00, ...,\n",
       "            8.43746245e-01,   2.15447283e+00,   1.29976845e+00],\n",
       "         [  3.75594616e-01,   1.20925188e-01,   1.79894888e+00, ...,\n",
       "            8.42408121e-01,   9.15851593e-01,   1.13275361e+00],\n",
       "         [  2.51598120e-01,   5.08425236e-02,   1.81178451e+00, ...,\n",
       "            8.31204176e-01,   8.74497294e-01,   1.12763298e+00],\n",
       "         ..., \n",
       "         [  8.79156828e-01,   5.80049634e-01,   1.41652167e+00, ...,\n",
       "            9.18977857e-01,   1.13838565e+00,   1.11428928e+00],\n",
       "         [  8.81294489e-01,   5.44500589e-01,   1.41400957e+00, ...,\n",
       "            9.27788556e-01,   1.13838565e+00,   1.11114383e+00],\n",
       "         [  3.58483791e-01,   0.00000000e+00,   1.41249394e+00, ...,\n",
       "            7.93050408e-01,   7.05645084e-02,   7.17959642e+00]],\n",
       "\n",
       "        [[  1.25806689e-01,   0.00000000e+00,   1.62796211e+00, ...,\n",
       "            7.79513419e-01,   1.95525432e+00,   1.23880482e+00],\n",
       "         [  0.00000000e+00,   0.00000000e+00,   1.52124739e+00, ...,\n",
       "            7.47095823e-01,   9.15851593e-01,   1.20829988e+00],\n",
       "         [  0.00000000e+00,   0.00000000e+00,   1.44103086e+00, ...,\n",
       "            7.37656653e-01,   8.74497294e-01,   1.20856667e+00],\n",
       "         ..., \n",
       "         [  4.48876381e-01,   0.00000000e+00,   1.49875474e+00, ...,\n",
       "            7.95719981e-01,   1.13838565e+00,   1.27107680e+00],\n",
       "         [  4.51254129e-01,   0.00000000e+00,   1.50112569e+00, ...,\n",
       "            8.02789211e-01,   1.13838565e+00,   1.25532269e+00],\n",
       "         [  1.57998800e-02,   0.00000000e+00,   1.34834146e+00, ...,\n",
       "            6.96547091e-01,   3.55729103e-01,   5.88465214e+00]]]], dtype=float32)"
      ]
     },
     "execution_count": 85,
     "metadata": {},
     "output_type": "execute_result"
    }
   ],
   "source": [
    "out"
   ]
  },
  {
   "cell_type": "code",
   "execution_count": 10,
   "metadata": {},
   "outputs": [
    {
     "data": {
      "text/plain": [
       "<matplotlib.image.AxesImage at 0x1c2d80abe0>"
      ]
     },
     "execution_count": 10,
     "metadata": {},
     "output_type": "execute_result"
    },
    {
     "data": {
      "image/png": "[encoded data removed]",
      "text/plain": [
       "<matplotlib.figure.Figure at 0x1c2256de80>"
      ]
     },
     "metadata": {},
     "output_type": "display_data"
    }
   ],
   "source": [
    "# out_for_print = out + np.array([131.0912,  103.8827,   91.4953])\n",
    "# out_for_print = out_for_print/255.0\n",
    "\n",
    "plt.imshow(scipy.misc.toimage(np.squeeze(img1)))"
   ]
  },
  {
   "cell_type": "code",
   "execution_count": 71,
   "metadata": {},
   "outputs": [],
   "source": [
    "# custom padding test\n",
    "# matconvnet: max pooling 'pad':  [TOP BOTTOM LEFT RIGHT]  [0, 1, 0, 1]\n",
    "with tf.Session() as sess:\n",
    "    input_ = tf.placeholder(tf.float32, [1, 3, 3, 1])\n",
    "    # 2: height, 1: width\n",
    "    padded_input = tf.pad(input_, [[0, 0], [0, 1], [0, 1], [0, 0]], \"CONSTANT\")\n",
    "    \n",
    "    num = np.arange(9).reshape((1, 3, 3, 1))\n",
    "    \n",
    "    feed_dict = {input_:num}\n",
    "    out = sess.run(padded_input, feed_dict=feed_dict)"
   ]
  },
  {
   "cell_type": "code",
   "execution_count": null,
   "metadata": {},
   "outputs": [],
   "source": []
  }
 ],
 "metadata": {
  "kernelspec": {
   "display_name": "Python [conda env:tensorflow]",
   "language": "python",
   "name": "conda-env-tensorflow-py"
  },
  "language_info": {
   "codemirror_mode": {
    "name": "ipython",
    "version": 3
   },
   "file_extension": ".py",
   "mimetype": "text/x-python",
   "name": "python",
   "nbconvert_exporter": "python",
   "pygments_lexer": "ipython3",
   "version": "3.5.4"
  }
 },
 "nbformat": 4,
 "nbformat_minor": 2
}
