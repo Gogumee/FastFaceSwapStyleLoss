{
 "cells": [
  {
   "cell_type": "code",
   "execution_count": null,
   "metadata": {
    "collapsed": true
   },
   "outputs": [],
   "source": [
    "(1, 3, 3, 5)\n",
    "\n",
    "(16, 3, 3, 5)"
   ]
  },
  {
   "cell_type": "code",
   "execution_count": 1,
   "metadata": {
    "collapsed": true
   },
   "outputs": [],
   "source": [
    "import numpy as np\n",
    "import tensorflow as tf"
   ]
  },
  {
   "cell_type": "code",
   "execution_count": 22,
   "metadata": {},
   "outputs": [],
   "source": [
    "with tf.Session() as sess:\n",
    "    batch, height, width, feature = 1, 3, 3, 2\n",
    "\n",
    "    generated_layer_patches = tf.placeholder(tf.float32, shape=(batch, height, width, feature))\n",
    "    style_layer_patches_16 = tf.placeholder(tf.float32, shape=(3, height, width, feature))\n",
    "\n",
    "    init_generated_layer_patches = np.array(\n",
    "        [[[[1, 1], [2, 2], [3, 3]], [[4, 4], [5, 5], [6, 6]], [[7, 7], [8, 8], [9, 9]]]])\n",
    "    \n",
    "    init_style_layer_patches = np.array(\n",
    "        [\n",
    "         [[[1, 1], [2, 2], [3, 3]], [[4, 4], [5, 5], [6, 6]], [[7, 7], [8, 8], [9, 9]]],\n",
    "         [[[4, 4], [5, 5], [6, 6]], [[7, 7], [8, 8], [9, 9]], [[7, 7], [8, 8], [9, 9]]],\n",
    "         [[[14, 14], [15, 15], [16, 16]], [[7, 7], [8, 8], [9, 9]], [[7, 7], [8, 8], [9, 9]]],\n",
    "        ])\n",
    "    \n",
    "    distances = []\n",
    "    style_layer_patches_per_image = tf.unstack(style_layer_patches_16, axis=0)\n",
    "    for patches_per_image in style_layer_patches_per_image:\n",
    "        patches_per_image = tf.expand_dims(patches_per_image, 0)\n",
    "        distance = tf.losses.cosine_distance(generated_layer_patches, patches_per_image, dim=3)\n",
    "        distances.append(distance)\n",
    "    output = tf.stack(distances)\n",
    "    \n",
    "    feed_dict = {generated_layer_patches: init_generated_layer_patches, style_layer_patches_16: init_style_layer_patches}\n",
    "    \n",
    "    out, patches = sess.run([output, style_layer_patches_per_image], feed_dict=feed_dict)"
   ]
  },
  {
   "cell_type": "code",
   "execution_count": 23,
   "metadata": {},
   "outputs": [
    {
     "data": {
      "text/plain": [
       "array([-62.33333206, -76.33333588, -89.66666412], dtype=float32)"
      ]
     },
     "execution_count": 23,
     "metadata": {},
     "output_type": "execute_result"
    }
   ],
   "source": [
    "out"
   ]
  },
  {
   "cell_type": "code",
   "execution_count": 26,
   "metadata": {},
   "outputs": [
    {
     "data": {
      "text/plain": [
       "(3, 3, 3, 2)"
      ]
     },
     "execution_count": 26,
     "metadata": {},
     "output_type": "execute_result"
    }
   ],
   "source": [
    "np.asarray(patches).shape"
   ]
  },
  {
   "cell_type": "code",
   "execution_count": 27,
   "metadata": {},
   "outputs": [
    {
     "data": {
      "text/plain": [
       "array([[[ 1.,  1.],\n",
       "        [ 2.,  2.],\n",
       "        [ 3.,  3.]],\n",
       "\n",
       "       [[ 4.,  4.],\n",
       "        [ 5.,  5.],\n",
       "        [ 6.,  6.]],\n",
       "\n",
       "       [[ 7.,  7.],\n",
       "        [ 8.,  8.],\n",
       "        [ 9.,  9.]]], dtype=float32)"
      ]
     },
     "execution_count": 27,
     "metadata": {},
     "output_type": "execute_result"
    }
   ],
   "source": [
    "np.asarray(patches)[0]"
   ]
  },
  {
   "cell_type": "code",
   "execution_count": 28,
   "metadata": {},
   "outputs": [
    {
     "data": {
      "text/plain": [
       "array([[[ 4.,  4.],\n",
       "        [ 5.,  5.],\n",
       "        [ 6.,  6.]],\n",
       "\n",
       "       [[ 7.,  7.],\n",
       "        [ 8.,  8.],\n",
       "        [ 9.,  9.]],\n",
       "\n",
       "       [[ 7.,  7.],\n",
       "        [ 8.,  8.],\n",
       "        [ 9.,  9.]]], dtype=float32)"
      ]
     },
     "execution_count": 28,
     "metadata": {},
     "output_type": "execute_result"
    }
   ],
   "source": [
    "np.asarray(patches)[1]"
   ]
  },
  {
   "cell_type": "code",
   "execution_count": 29,
   "metadata": {},
   "outputs": [
    {
     "data": {
      "text/plain": [
       "array([[[ 14.,  14.],\n",
       "        [ 15.,  15.],\n",
       "        [ 16.,  16.]],\n",
       "\n",
       "       [[  7.,   7.],\n",
       "        [  8.,   8.],\n",
       "        [  9.,   9.]],\n",
       "\n",
       "       [[  7.,   7.],\n",
       "        [  8.,   8.],\n",
       "        [  9.,   9.]]], dtype=float32)"
      ]
     },
     "execution_count": 29,
     "metadata": {},
     "output_type": "execute_result"
    }
   ],
   "source": [
    "np.asarray(patches)[2]"
   ]
  },
  {
   "cell_type": "code",
   "execution_count": 52,
   "metadata": {},
   "outputs": [],
   "source": [
    "with tf.Session() as sess:\n",
    "    batch, height, width, feature = 1, 3, 3, 2\n",
    "\n",
    "    generated_layer_patches = tf.placeholder(tf.float32, shape=(batch, height, width, feature))\n",
    "    style_layer_patches = tf.placeholder(tf.float32, shape=(batch, height, width, feature))\n",
    "\n",
    "    init_generated_layer_patches = np.array(\n",
    "        [\n",
    "            [[[1, 1], [2, 2], [3, 3]], [[4, 4], [5, 5], [6, 6]], [[7, 7], [8, 8], [9, 9]]]\n",
    "        ])\n",
    "    \n",
    "    init_style_layer_patches = np.array(\n",
    "        [\n",
    "            [[[4, 4], [5, 5], [6, 6]], [[7, 7], [8, 8], [9, 9]], [[7, 7], [8, 8], [9, 9]]],\n",
    "        ])\n",
    "    \n",
    "    generated_layer_flat = tf.reshape(generated_layer_patches, [batch, -1, feature])\n",
    "    style_layer_flat = tf.reshape(generated_layer_patches, [batch, -1, feature])\n",
    "    \n",
    "    distance = tf.losses.cosine_distance(generated_layer_patches, style_layer_patches, dim=0)\n",
    "    \n",
    "    feed_dict = {generated_layer_patches: init_generated_layer_patches, style_layer_patches: init_style_layer_patches}\n",
    "    \n",
    "    out = sess.run([distance], feed_dict=feed_dict)"
   ]
  },
  {
   "cell_type": "code",
   "execution_count": 53,
   "metadata": {},
   "outputs": [
    {
     "data": {
      "text/plain": [
       "[-37.666668]"
      ]
     },
     "execution_count": 53,
     "metadata": {},
     "output_type": "execute_result"
    }
   ],
   "source": [
    "out"
   ]
  },
  {
   "cell_type": "code",
   "execution_count": 49,
   "metadata": {},
   "outputs": [
    {
     "data": {
      "text/plain": [
       "(1, 9, 2)"
      ]
     },
     "execution_count": 49,
     "metadata": {},
     "output_type": "execute_result"
    }
   ],
   "source": [
    "np.asarray(_a).shape"
   ]
  },
  {
   "cell_type": "code",
   "execution_count": 50,
   "metadata": {},
   "outputs": [
    {
     "data": {
      "text/plain": [
       "array([[[ 1.,  1.],\n",
       "        [ 2.,  2.],\n",
       "        [ 3.,  3.],\n",
       "        [ 4.,  4.],\n",
       "        [ 5.,  5.],\n",
       "        [ 6.,  6.],\n",
       "        [ 7.,  7.],\n",
       "        [ 8.,  8.],\n",
       "        [ 9.,  9.]]], dtype=float32)"
      ]
     },
     "execution_count": 50,
     "metadata": {},
     "output_type": "execute_result"
    }
   ],
   "source": [
    "np.asarray(_a)"
   ]
  },
  {
   "cell_type": "code",
   "execution_count": 133,
   "metadata": {},
   "outputs": [],
   "source": [
    "with tf.Session() as sess:\n",
    "    batch, height, width, feature = 1, 3, 3, 2\n",
    "    style_batch = 4\n",
    "\n",
    "    style_layer_patches = tf.placeholder(tf.float32, shape=(style_batch, height, width, feature))\n",
    "    \n",
    "    init_style_layer_patches = np.array(\n",
    "        [\n",
    "         [[[1, 1], [2, 2], [3, 3]], [[4, 4], [5, 5], [6, 6]], [[7, 7], [8, 8], [9, 9]]],\n",
    "         [[[4, 4], [5, 5], [6, 6]], [[7, 7], [8, 8], [9, 9]], [[7, 7], [8, 8], [9, 9]]],\n",
    "         [[[14, 14], [15, 15], [16, 16]], [[7, 7], [8, 8], [9, 9]], [[7, 7], [8, 8], [9, 9]]],\n",
    "         [[[55, 33], [22, 111], [136, 106]], [[17, 17], [85, 85], [95, 95]], [[75, 75], [58, 58], [59, 59]]],   \n",
    "        ])\n",
    "    \n",
    "    style_layer_patches_per_batch = tf.unstack(style_layer_patches)\n",
    "    test = tf.stack(style_layer_patches_per_batch, axis=2) # (1, 3, 3, style_batch, feature)\n",
    "    test = tf.reshape(test, [height*width, style_batch, feature])\n",
    "    \n",
    "    feed_dict = {style_layer_patches: init_style_layer_patches}\n",
    "    \n",
    "    out = sess.run([test], feed_dict=feed_dict)"
   ]
  },
  {
   "cell_type": "code",
   "execution_count": 134,
   "metadata": {},
   "outputs": [
    {
     "data": {
      "text/plain": [
       "(1, 9, 4, 2)"
      ]
     },
     "execution_count": 134,
     "metadata": {},
     "output_type": "execute_result"
    }
   ],
   "source": [
    "np.asarray(out).shape"
   ]
  },
  {
   "cell_type": "code",
   "execution_count": 135,
   "metadata": {},
   "outputs": [
    {
     "name": "stdout",
     "output_type": "stream",
     "text": [
      "(4, 2)\n"
     ]
    },
    {
     "data": {
      "text/plain": [
       "array([[  1.,   1.],\n",
       "       [  4.,   4.],\n",
       "       [ 14.,  14.],\n",
       "       [ 55.,  33.]], dtype=float32)"
      ]
     },
     "execution_count": 135,
     "metadata": {},
     "output_type": "execute_result"
    }
   ],
   "source": [
    "print(out[0][0].shape)\n",
    "out[0][0]"
   ]
  },
  {
   "cell_type": "code",
   "execution_count": 96,
   "metadata": {},
   "outputs": [
    {
     "data": {
      "text/plain": [
       "array([[[  4.,   4.],\n",
       "        [  7.,   7.],\n",
       "        [  7.,   7.],\n",
       "        [ 17.,  17.]],\n",
       "\n",
       "       [[  5.,   5.],\n",
       "        [  8.,   8.],\n",
       "        [  8.,   8.],\n",
       "        [ 85.,  85.]],\n",
       "\n",
       "       [[  6.,   6.],\n",
       "        [  9.,   9.],\n",
       "        [  9.,   9.],\n",
       "        [ 95.,  95.]]], dtype=float32)"
      ]
     },
     "execution_count": 96,
     "metadata": {},
     "output_type": "execute_result"
    }
   ],
   "source": [
    "out[0][1]"
   ]
  },
  {
   "cell_type": "code",
   "execution_count": 97,
   "metadata": {},
   "outputs": [
    {
     "data": {
      "text/plain": [
       "array([[[  7.,   7.],\n",
       "        [  7.,   7.],\n",
       "        [  7.,   7.],\n",
       "        [ 75.,  75.]],\n",
       "\n",
       "       [[  8.,   8.],\n",
       "        [  8.,   8.],\n",
       "        [  8.,   8.],\n",
       "        [ 58.,  58.]],\n",
       "\n",
       "       [[  9.,   9.],\n",
       "        [  9.,   9.],\n",
       "        [  9.,   9.],\n",
       "        [ 59.,  59.]]], dtype=float32)"
      ]
     },
     "execution_count": 97,
     "metadata": {},
     "output_type": "execute_result"
    }
   ],
   "source": [
    "out[0][2]"
   ]
  },
  {
   "cell_type": "code",
   "execution_count": null,
   "metadata": {
    "collapsed": true
   },
   "outputs": [],
   "source": [
    "with tf.Session() as sess:\n",
    "    batch, height, width, feature = 1, 3, 3, 2\n",
    "\n",
    "    generated_layer_patches = tf.placeholder(tf.float32, shape=(batch, height, width, feature))\n",
    "    style_layer_patches = tf.placeholder(tf.float32, shape=(3, height, width, feature))\n",
    "    \n",
    "    init_generated_layer_patches = np.array(\n",
    "        [\n",
    "            [[[1, 1], [2, 2], [3, 3]], [[4, 4], [5, 5], [6, 6]], [[7, 7], [8, 8], [9, 9]]]\n",
    "        ])\n",
    "    \n",
    "    init_style_layer_patches = np.array(\n",
    "        [\n",
    "         [[[1, 1], [2, 2], [3, 3]], [[4, 4], [5, 5], [6, 6]], [[7, 7], [8, 8], [9, 9]]],\n",
    "         [[[4, 4], [5, 5], [6, 6]], [[7, 7], [8, 8], [9, 9]], [[7, 7], [8, 8], [9, 9]]],\n",
    "         [[[14, 14], [15, 15], [16, 16]], [[7, 7], [8, 8], [9, 9]], [[7, 7], [8, 8], [9, 9]]],\n",
    "        ])\n",
    "    \n",
    "    style_layer_patches_per_batch = tf.unstack(style_layer_patches)\n",
    "    style_layer_join_per_pixel = tf.stack(style_layer_patches_per_batch, axis=2) # (1, 3, 3, style_batch, feature)\n",
    "    \n",
    "    feed_dict = {generated_layer_patches: init_generated_layer_patches, style_layer_patches: init_style_layer_patches}\n",
    "    \n",
    "    out = sess.run([test], feed_dict=feed_dict)"
   ]
  },
  {
   "cell_type": "code",
   "execution_count": 138,
   "metadata": {},
   "outputs": [],
   "source": [
    "with tf.Session() as sess:\n",
    "    batch, height, width, feature = 1, 3, 3, 2\n",
    "\n",
    "    generated_layer_patches = tf.placeholder(tf.float32, shape=(batch, height, width, feature))\n",
    "    \n",
    "    init_generated_layer_patches = np.array(\n",
    "        [\n",
    "            [[[1, 1], [2, 2], [3, 3]], [[4, 4], [5, 5], [6, 6]], [[7, 7], [8, 8], [9, 9]]]\n",
    "        ])\n",
    "    \n",
    "    feed_dict = {generated_layer_patches: init_generated_layer_patches}\n",
    "    \n",
    "    generated_layer_per_pixels = tf.reshape(generated_layer_patches, [-1, feature])\n",
    "    \n",
    "    out = sess.run([generated_layer_per_pixels], feed_dict=feed_dict)"
   ]
  },
  {
   "cell_type": "code",
   "execution_count": 139,
   "metadata": {},
   "outputs": [
    {
     "data": {
      "text/plain": [
       "(1, 9, 2)"
      ]
     },
     "execution_count": 139,
     "metadata": {},
     "output_type": "execute_result"
    }
   ],
   "source": [
    "np.asarray(out).shape\n",
    "# (1, 3, 3, 4, 2)"
   ]
  },
  {
   "cell_type": "code",
   "execution_count": 140,
   "metadata": {},
   "outputs": [
    {
     "data": {
      "text/plain": [
       "[array([[ 1.,  1.],\n",
       "        [ 2.,  2.],\n",
       "        [ 3.,  3.],\n",
       "        [ 4.,  4.],\n",
       "        [ 5.,  5.],\n",
       "        [ 6.,  6.],\n",
       "        [ 7.,  7.],\n",
       "        [ 8.,  8.],\n",
       "        [ 9.,  9.]], dtype=float32)]"
      ]
     },
     "execution_count": 140,
     "metadata": {},
     "output_type": "execute_result"
    }
   ],
   "source": [
    "out"
   ]
  },
  {
   "cell_type": "code",
   "execution_count": 111,
   "metadata": {},
   "outputs": [
    {
     "data": {
      "text/plain": [
       "array([ 1.,  1.], dtype=float32)"
      ]
     },
     "execution_count": 111,
     "metadata": {},
     "output_type": "execute_result"
    }
   ],
   "source": [
    "out[0][0][0]"
   ]
  },
  {
   "cell_type": "code",
   "execution_count": 109,
   "metadata": {},
   "outputs": [
    {
     "data": {
      "text/plain": [
       "array([[ 4.,  4.],\n",
       "       [ 5.,  5.],\n",
       "       [ 6.,  6.]], dtype=float32)"
      ]
     },
     "execution_count": 109,
     "metadata": {},
     "output_type": "execute_result"
    }
   ],
   "source": [
    "out[0][1]"
   ]
  },
  {
   "cell_type": "code",
   "execution_count": 110,
   "metadata": {},
   "outputs": [
    {
     "data": {
      "text/plain": [
       "array([[ 7.,  7.],\n",
       "       [ 8.,  8.],\n",
       "       [ 9.,  9.]], dtype=float32)"
      ]
     },
     "execution_count": 110,
     "metadata": {},
     "output_type": "execute_result"
    }
   ],
   "source": [
    "out[0][2]"
   ]
  },
  {
   "cell_type": "code",
   "execution_count": 172,
   "metadata": {},
   "outputs": [],
   "source": [
    "with tf.Session() as sess:\n",
    "    batch, height, width, feature = 1, 3, 3, 2\n",
    "    style_batch = 4\n",
    "\n",
    "    style_layer_patches = tf.placeholder(tf.float32, shape=(style_batch, height, width, feature))\n",
    "    \n",
    "    init_style_layer_patches = np.array(\n",
    "        [\n",
    "         [[[1, 1], [2, 2], [3, 3]], [[4, 4], [5, 5], [6, 6]], [[7, 7], [8, 8], [9, 9]]],\n",
    "         [[[4, 4], [5, 5], [6, 6]], [[7, 7], [8, 8], [9, 9]], [[7, 7], [8, 8], [9, 9]]],\n",
    "         [[[14, 14], [15, 15], [16, 16]], [[7, 7], [8, 8], [9, 9]], [[7, 7], [8, 8], [9, 9]]],\n",
    "         [[[55, 33], [22, 111], [136, 106]], [[17, 17], [85, 85], [95, 95]], [[75, 75], [58, 58], [59, 59]]],   \n",
    "        ])\n",
    "    \n",
    "    generated_layer_patches = tf.placeholder(tf.float32, shape=(batch, height, width, feature))\n",
    "    \n",
    "    init_generated_layer_patches = np.array(\n",
    "        [\n",
    "            [[[1, 1], [2, 2], [3, 3]], [[4, 4], [5, 5], [6, 6]], [[7, 7], [8, 8], [9, 9]]]\n",
    "        ])\n",
    "    \n",
    "    style_layer_patches_per_batch = tf.unstack(style_layer_patches)\n",
    "    style_layer_join_by_per_batch = tf.stack(style_layer_patches_per_batch, axis=2) # (1, 3, 3, style_batch, feature)\n",
    "    style_layer_join_by_per_feature = tf.reshape(style_layer_join_by_per_batch, [height*width, style_batch, feature]) # (1, 9, style_batch, feature)\n",
    "    size, _, _ = style_layer_join_by_per_feature.get_shape().as_list()\n",
    "    \n",
    "#     for i in tf.range(size):\n",
    "#         print(i)\n",
    "    c = tf.unstack()\n",
    "    \n",
    "    \n",
    "    generated_layer_per_pixels = tf.reshape(generated_layer_patches, [-1, feature])\n",
    "    \n",
    "    feed_dict = {generated_layer_patches: init_generated_layer_patches, style_layer_patches: init_style_layer_patches}\n",
    "    \n",
    "    style, generated = sess.run([style_layer_join_by_per_feature, generated_layer_per_pixels], feed_dict=feed_dict)"
   ]
  },
  {
   "cell_type": "code",
   "execution_count": 175,
   "metadata": {},
   "outputs": [
    {
     "data": {
      "text/plain": [
       "9"
      ]
     },
     "execution_count": 175,
     "metadata": {},
     "output_type": "execute_result"
    }
   ],
   "source": [
    "size"
   ]
  },
  {
   "cell_type": "code",
   "execution_count": 176,
   "metadata": {},
   "outputs": [
    {
     "data": {
      "text/plain": [
       "array([[[   1.,    1.],\n",
       "        [   4.,    4.],\n",
       "        [  14.,   14.],\n",
       "        [  55.,   33.]],\n",
       "\n",
       "       [[   2.,    2.],\n",
       "        [   5.,    5.],\n",
       "        [  15.,   15.],\n",
       "        [  22.,  111.]],\n",
       "\n",
       "       [[   3.,    3.],\n",
       "        [   6.,    6.],\n",
       "        [  16.,   16.],\n",
       "        [ 136.,  106.]],\n",
       "\n",
       "       [[   4.,    4.],\n",
       "        [   7.,    7.],\n",
       "        [   7.,    7.],\n",
       "        [  17.,   17.]],\n",
       "\n",
       "       [[   5.,    5.],\n",
       "        [   8.,    8.],\n",
       "        [   8.,    8.],\n",
       "        [  85.,   85.]],\n",
       "\n",
       "       [[   6.,    6.],\n",
       "        [   9.,    9.],\n",
       "        [   9.,    9.],\n",
       "        [  95.,   95.]],\n",
       "\n",
       "       [[   7.,    7.],\n",
       "        [   7.,    7.],\n",
       "        [   7.,    7.],\n",
       "        [  75.,   75.]],\n",
       "\n",
       "       [[   8.,    8.],\n",
       "        [   8.,    8.],\n",
       "        [   8.,    8.],\n",
       "        [  58.,   58.]],\n",
       "\n",
       "       [[   9.,    9.],\n",
       "        [   9.,    9.],\n",
       "        [   9.,    9.],\n",
       "        [  59.,   59.]]], dtype=float32)"
      ]
     },
     "execution_count": 176,
     "metadata": {},
     "output_type": "execute_result"
    }
   ],
   "source": [
    "np.asarray(style)"
   ]
  },
  {
   "cell_type": "code",
   "execution_count": 159,
   "metadata": {},
   "outputs": [
    {
     "data": {
      "text/plain": [
       "(9, 2)"
      ]
     },
     "execution_count": 159,
     "metadata": {},
     "output_type": "execute_result"
    }
   ],
   "source": [
    "np.asarray(generated).shape"
   ]
  },
  {
   "cell_type": "code",
   "execution_count": 160,
   "metadata": {},
   "outputs": [
    {
     "data": {
      "text/plain": [
       "array([[[   1.,    1.],\n",
       "        [   4.,    4.],\n",
       "        [  14.,   14.],\n",
       "        [  55.,   33.]],\n",
       "\n",
       "       [[   2.,    2.],\n",
       "        [   5.,    5.],\n",
       "        [  15.,   15.],\n",
       "        [  22.,  111.]],\n",
       "\n",
       "       [[   3.,    3.],\n",
       "        [   6.,    6.],\n",
       "        [  16.,   16.],\n",
       "        [ 136.,  106.]],\n",
       "\n",
       "       [[   4.,    4.],\n",
       "        [   7.,    7.],\n",
       "        [   7.,    7.],\n",
       "        [  17.,   17.]],\n",
       "\n",
       "       [[   5.,    5.],\n",
       "        [   8.,    8.],\n",
       "        [   8.,    8.],\n",
       "        [  85.,   85.]],\n",
       "\n",
       "       [[   6.,    6.],\n",
       "        [   9.,    9.],\n",
       "        [   9.,    9.],\n",
       "        [  95.,   95.]],\n",
       "\n",
       "       [[   7.,    7.],\n",
       "        [   7.,    7.],\n",
       "        [   7.,    7.],\n",
       "        [  75.,   75.]],\n",
       "\n",
       "       [[   8.,    8.],\n",
       "        [   8.,    8.],\n",
       "        [   8.,    8.],\n",
       "        [  58.,   58.]],\n",
       "\n",
       "       [[   9.,    9.],\n",
       "        [   9.,    9.],\n",
       "        [   9.,    9.],\n",
       "        [  59.,   59.]]], dtype=float32)"
      ]
     },
     "execution_count": 160,
     "metadata": {},
     "output_type": "execute_result"
    }
   ],
   "source": [
    "np.asarray(style)"
   ]
  },
  {
   "cell_type": "code",
   "execution_count": 6,
   "metadata": {},
   "outputs": [],
   "source": [
    "# argmin test\n",
    "with tf.Session() as sess:\n",
    "    style_pixel = tf.placeholder(tf.float32, shape=(4, 2))\n",
    "    generate_pixel = tf.placeholder(tf.float32, shape=(2))\n",
    "    \n",
    "    init_style_pixel = np.array(\n",
    "        [[   1.,    1.], [   4.,    4.], [  14.,   14.], [  55.,   33.]])\n",
    "    \n",
    "    init_generate_pixel = np.array([ 1., 2. ])\n",
    "\n",
    "    feed_dict = {style_pixel: init_style_pixel, generate_pixel: init_generate_pixel}\n",
    "    \n",
    "    ret = []\n",
    "    for pixel in tf.unstack(style_pixel):\n",
    "        ret.append(tf.losses.cosine_distance(pixel, generate_pixel, dim=0))\n",
    "    ret = tf.stack(ret)\n",
    "    min_result = tf.reduce_min(ret)\n",
    "    argmin = tf.argmin(ret)\n",
    "    best_match = tf.gather(style_pixel, indices=argmin)\n",
    "    out, _min = sess.run([best_match, min_result], feed_dict=feed_dict)"
   ]
  },
  {
   "cell_type": "code",
   "execution_count": 7,
   "metadata": {},
   "outputs": [
    {
     "data": {
      "text/plain": [
       "-120.0"
      ]
     },
     "execution_count": 7,
     "metadata": {},
     "output_type": "execute_result"
    }
   ],
   "source": [
    "_min"
   ]
  },
  {
   "cell_type": "code",
   "execution_count": 203,
   "metadata": {},
   "outputs": [
    {
     "data": {
      "text/plain": [
       "array([ 55.,  33.], dtype=float32)"
      ]
     },
     "execution_count": 203,
     "metadata": {},
     "output_type": "execute_result"
    }
   ],
   "source": [
    "out"
   ]
  },
  {
   "cell_type": "code",
   "execution_count": 186,
   "metadata": {},
   "outputs": [
    {
     "data": {
      "text/plain": [
       "array([  -2.,  -11.,  -41., -120.], dtype=float32)"
      ]
     },
     "execution_count": 186,
     "metadata": {},
     "output_type": "execute_result"
    }
   ],
   "source": [
    "out"
   ]
  },
  {
   "cell_type": "code",
   "execution_count": 205,
   "metadata": {},
   "outputs": [
    {
     "name": "stdout",
     "output_type": "stream",
     "text": [
      "-120.0\n"
     ]
    }
   ],
   "source": [
    "with tf.Session() as sess:\n",
    "    print(sess.run(tf.losses.cosine_distance([   55.,    33.], [   1.,    2.] , dim=0)))"
   ]
  },
  {
   "cell_type": "code",
   "execution_count": 259,
   "metadata": {
    "scrolled": true
   },
   "outputs": [],
   "source": [
    "with tf.Session() as sess:\n",
    "    batch, height, width, feature = 1, 3, 3, 2\n",
    "    style_batch = 4\n",
    "\n",
    "    style_layer_patches = tf.placeholder(tf.float32, shape=(style_batch, height, width, feature))\n",
    "    \n",
    "    init_style_layer_patches = np.array(\n",
    "        [\n",
    "         [[[1, 1], [2, 2], [3, 3]], [[4, 4], [5, 5], [6, 6]], [[7, 7], [8, 8], [9, 9]]],\n",
    "         [[[4, 4], [5, 5], [6, 6]], [[7, 7], [8, 8], [9, 9]], [[7, 7], [8, 8], [9, 9]]],\n",
    "         [[[14, 14], [15, 15], [16, 16]], [[7, 7], [8, 8], [9, 9]], [[7, 7], [8, 8], [9, 9]]],\n",
    "         [[[55, 33], [22, 111], [136, 106]], [[17, 17], [85, 85], [95, 95]], [[75, 75], [58, 58], [59, 59]]],   \n",
    "        ])\n",
    "    \n",
    "    generated_layer_patches = tf.placeholder(tf.float32, shape=(batch, height, width, feature))\n",
    "    \n",
    "    init_generated_layer_patches = np.array(\n",
    "        [\n",
    "            [[[1, 1], [2, 2], [3, 3]], [[4, 4], [5, 5], [6, 6]], [[7, 7], [8, 8], [9, 9]]]\n",
    "        ])\n",
    "    \n",
    "    concat_generate_style_layer = tf.concat([generated_layer_patches, style_layer_patches], 0)\n",
    "#     style_layer_patches_per_batch = tf.unstack(style_layer_patches)\n",
    "    style_layer_patches_per_batch = tf.unstack(concat_generate_style_layer)\n",
    "    style_layer_join_by_per_batch = tf.stack(style_layer_patches_per_batch, axis=2) # (1, 3, 3, style_batch, feature)\n",
    "    style_layer_join_by_per_feature = tf.reshape(style_layer_join_by_per_batch, [height*width, (style_batch + batch), feature]) # (9, style_batch, feature)\n",
    "    \n",
    "#     generated_layer_per_pixels = tf.reshape(generated_layer_patches, [-1, feature]) # (9, 2)\n",
    "    \n",
    "    for layer in tf.unstack(style_layer_join_by_per_feature):\n",
    "        g_patch, s_patches = tf.split(layer, [batch, style_batch], 0)\n",
    "        g_patch = tf.squeeze(g_patch)\n",
    "        ret = []\n",
    "        for pixel in tf.unstack(s_patches):\n",
    "            ret.append(tf.losses.cosine_distance(pixel, g_patch, dim=0))\n",
    "        ret = tf.stack(ret)\n",
    "        argmin = tf.argmin(ret)\n",
    "        best_match = tf.gather(style_pixel, indices=argmin)\n",
    "    \n",
    "    feed_dict = {generated_layer_patches: init_generated_layer_patches, style_layer_patches: init_style_layer_patches}\n",
    "    \n",
    "    out = sess.run([style_layer_join_by_per_feature], feed_dict=feed_dict)"
   ]
  },
  {
   "cell_type": "code",
   "execution_count": 260,
   "metadata": {},
   "outputs": [
    {
     "data": {
      "text/plain": [
       "<tf.Tensor 'concat_22:0' shape=(5, 3, 3, 2) dtype=float32>"
      ]
     },
     "execution_count": 260,
     "metadata": {},
     "output_type": "execute_result"
    }
   ],
   "source": [
    "concat_generate_style_layer"
   ]
  },
  {
   "cell_type": "code",
   "execution_count": 257,
   "metadata": {},
   "outputs": [
    {
     "data": {
      "text/plain": [
       "[array([[[   1.,    1.],\n",
       "         [   1.,    1.],\n",
       "         [   4.,    4.],\n",
       "         [  14.,   14.],\n",
       "         [  55.,   33.]],\n",
       " \n",
       "        [[   2.,    2.],\n",
       "         [   2.,    2.],\n",
       "         [   5.,    5.],\n",
       "         [  15.,   15.],\n",
       "         [  22.,  111.]],\n",
       " \n",
       "        [[   3.,    3.],\n",
       "         [   3.,    3.],\n",
       "         [   6.,    6.],\n",
       "         [  16.,   16.],\n",
       "         [ 136.,  106.]],\n",
       " \n",
       "        [[   4.,    4.],\n",
       "         [   4.,    4.],\n",
       "         [   7.,    7.],\n",
       "         [   7.,    7.],\n",
       "         [  17.,   17.]],\n",
       " \n",
       "        [[   5.,    5.],\n",
       "         [   5.,    5.],\n",
       "         [   8.,    8.],\n",
       "         [   8.,    8.],\n",
       "         [  85.,   85.]],\n",
       " \n",
       "        [[   6.,    6.],\n",
       "         [   6.,    6.],\n",
       "         [   9.,    9.],\n",
       "         [   9.,    9.],\n",
       "         [  95.,   95.]],\n",
       " \n",
       "        [[   7.,    7.],\n",
       "         [   7.,    7.],\n",
       "         [   7.,    7.],\n",
       "         [   7.,    7.],\n",
       "         [  75.,   75.]],\n",
       " \n",
       "        [[   8.,    8.],\n",
       "         [   8.,    8.],\n",
       "         [   8.,    8.],\n",
       "         [   8.,    8.],\n",
       "         [  58.,   58.]],\n",
       " \n",
       "        [[   9.,    9.],\n",
       "         [   9.,    9.],\n",
       "         [   9.,    9.],\n",
       "         [   9.,    9.],\n",
       "         [  59.,   59.]]], dtype=float32)]"
      ]
     },
     "execution_count": 257,
     "metadata": {},
     "output_type": "execute_result"
    }
   ],
   "source": [
    "out"
   ]
  },
  {
   "cell_type": "code",
   "execution_count": 253,
   "metadata": {},
   "outputs": [
    {
     "data": {
      "text/plain": [
       "<tf.Tensor 'unstack_75:0' shape=(5, 2) dtype=float32>"
      ]
     },
     "execution_count": 253,
     "metadata": {},
     "output_type": "execute_result"
    }
   ],
   "source": [
    "layer"
   ]
  },
  {
   "cell_type": "code",
   "execution_count": 248,
   "metadata": {},
   "outputs": [
    {
     "data": {
      "text/plain": [
       "<tf.Tensor 'split_9:0' shape=(1, 2) dtype=float32>"
      ]
     },
     "execution_count": 248,
     "metadata": {},
     "output_type": "execute_result"
    }
   ],
   "source": [
    "g_patch"
   ]
  },
  {
   "cell_type": "code",
   "execution_count": 251,
   "metadata": {},
   "outputs": [
    {
     "data": {
      "text/plain": [
       "<tf.Tensor 'split_18:1' shape=(?, 2) dtype=float32>"
      ]
     },
     "execution_count": 251,
     "metadata": {},
     "output_type": "execute_result"
    }
   ],
   "source": [
    "s_patches"
   ]
  },
  {
   "cell_type": "code",
   "execution_count": 245,
   "metadata": {},
   "outputs": [
    {
     "data": {
      "text/plain": [
       "(1, 9, 5, 2)"
      ]
     },
     "execution_count": 245,
     "metadata": {},
     "output_type": "execute_result"
    }
   ],
   "source": [
    "np.asarray(out).shape"
   ]
  },
  {
   "cell_type": "code",
   "execution_count": 246,
   "metadata": {},
   "outputs": [
    {
     "data": {
      "text/plain": [
       "[array([[[   1.,    1.],\n",
       "         [   1.,    1.],\n",
       "         [   4.,    4.],\n",
       "         [  14.,   14.],\n",
       "         [  55.,   33.]],\n",
       " \n",
       "        [[   2.,    2.],\n",
       "         [   2.,    2.],\n",
       "         [   5.,    5.],\n",
       "         [  15.,   15.],\n",
       "         [  22.,  111.]],\n",
       " \n",
       "        [[   3.,    3.],\n",
       "         [   3.,    3.],\n",
       "         [   6.,    6.],\n",
       "         [  16.,   16.],\n",
       "         [ 136.,  106.]],\n",
       " \n",
       "        [[   4.,    4.],\n",
       "         [   4.,    4.],\n",
       "         [   7.,    7.],\n",
       "         [   7.,    7.],\n",
       "         [  17.,   17.]],\n",
       " \n",
       "        [[   5.,    5.],\n",
       "         [   5.,    5.],\n",
       "         [   8.,    8.],\n",
       "         [   8.,    8.],\n",
       "         [  85.,   85.]],\n",
       " \n",
       "        [[   6.,    6.],\n",
       "         [   6.,    6.],\n",
       "         [   9.,    9.],\n",
       "         [   9.,    9.],\n",
       "         [  95.,   95.]],\n",
       " \n",
       "        [[   7.,    7.],\n",
       "         [   7.,    7.],\n",
       "         [   7.,    7.],\n",
       "         [   7.,    7.],\n",
       "         [  75.,   75.]],\n",
       " \n",
       "        [[   8.,    8.],\n",
       "         [   8.,    8.],\n",
       "         [   8.,    8.],\n",
       "         [   8.,    8.],\n",
       "         [  58.,   58.]],\n",
       " \n",
       "        [[   9.,    9.],\n",
       "         [   9.,    9.],\n",
       "         [   9.,    9.],\n",
       "         [   9.,    9.],\n",
       "         [  59.,   59.]]], dtype=float32)]"
      ]
     },
     "execution_count": 246,
     "metadata": {},
     "output_type": "execute_result"
    }
   ],
   "source": [
    "out"
   ]
  },
  {
   "cell_type": "code",
   "execution_count": 207,
   "metadata": {},
   "outputs": [
    {
     "data": {
      "text/plain": [
       "(9, 4, 2)"
      ]
     },
     "execution_count": 207,
     "metadata": {},
     "output_type": "execute_result"
    }
   ],
   "source": [
    "np.asarray(style).shape"
   ]
  },
  {
   "cell_type": "code",
   "execution_count": 208,
   "metadata": {},
   "outputs": [
    {
     "data": {
      "text/plain": [
       "(9, 2)"
      ]
     },
     "execution_count": 208,
     "metadata": {},
     "output_type": "execute_result"
    }
   ],
   "source": [
    "np.asarray(generated).shape"
   ]
  },
  {
   "cell_type": "code",
   "execution_count": 215,
   "metadata": {},
   "outputs": [],
   "source": [
    "# concat test\n",
    "with tf.Session() as sess:\n",
    "    t1 = np.asarray([[1, 2, 3], [4, 5, 6]])\n",
    "#     t2 = np.asarray([[7, 8, 9], [10, 11, 12]])\n",
    "    split0, split1 = tf.split(t1, [1, 1], 0)"
   ]
  },
  {
   "cell_type": "code",
   "execution_count": 216,
   "metadata": {},
   "outputs": [
    {
     "data": {
      "text/plain": [
       "<tf.Tensor 'split:0' shape=(1, 3) dtype=int64>"
      ]
     },
     "execution_count": 216,
     "metadata": {},
     "output_type": "execute_result"
    }
   ],
   "source": [
    "split0"
   ]
  },
  {
   "cell_type": "code",
   "execution_count": 15,
   "metadata": {},
   "outputs": [],
   "source": [
    "with tf.Session() as sess:\n",
    "    batch, height, width, feature = 1, 3, 3, 2\n",
    "    style_batch = 4\n",
    "\n",
    "    style_layer_patches = tf.placeholder(tf.float32, shape=(style_batch, height, width, feature))\n",
    "    \n",
    "    init_style_layer_patches = np.array(\n",
    "        [\n",
    "         [[[1, 1], [2, 2], [3, 3]], [[4, 4], [5, 5], [6, 6]], [[7, 7], [8, 8], [9, 9]]],\n",
    "         [[[4, 4], [5, 5], [6, 6]], [[7, 7], [8, 8], [9, 9]], [[7, 7], [8, 8], [9, 9]]],\n",
    "         [[[14, 14], [15, 15], [16, 16]], [[7, 7], [8, 8], [9, 9]], [[7, 7], [8, 8], [9, 9]]],\n",
    "         [[[55, 33], [22, 111], [136, 106]], [[17, 17], [85, 85], [95, 95]], [[75, 75], [58, 58], [59, 59]]],   \n",
    "        ])\n",
    "    \n",
    "    generated_layer_patches = tf.placeholder(tf.float32, shape=(batch, height, width, feature))\n",
    "    \n",
    "    init_generated_layer_patches = np.array(\n",
    "        [\n",
    "            [[[1, 1], [2, 2], [3, 3]], [[4, 4], [5, 5], [6, 6]], [[7, 7], [8, 8], [9, 9]]]\n",
    "        ])\n",
    "    \n",
    "    concat_generate_style_layer = tf.concat([generated_layer_patches, style_layer_patches], 0)\n",
    "    style_layer_patches_per_batch = tf.unstack(concat_generate_style_layer)\n",
    "    style_layer_join_by_per_batch = tf.stack(style_layer_patches_per_batch, axis=2) # (1, 3, 3, style_batch, feature)\n",
    "    style_layer_join_by_per_feature = tf.reshape(style_layer_join_by_per_batch, [height*width, (style_batch + batch), feature]) # (9, style_batch, feature)\n",
    "    \n",
    "#     generated_layer_per_pixels = tf.reshape(generated_layer_patches, [-1, feature]) # (9, 2)\n",
    "    \n",
    "    ## for batch in baches::\n",
    "    style_loss = []\n",
    "    for layer in tf.unstack(style_layer_join_by_per_feature):\n",
    "        g_patch, s_patches = tf.split(layer, [1, style_batch], 0)\n",
    "        g_patch = tf.squeeze(g_patch)\n",
    "        ret = []\n",
    "        for pixel in tf.unstack(s_patches):\n",
    "            ret.append(tf.losses.cosine_distance(pixel, g_patch, dim=0))\n",
    "        ret = tf.stack(ret)\n",
    "        min_patch = tf.reduce_min(ret)\n",
    "        style_loss.append(min_patch)\n",
    "#         argmin = tf.argmin(ret)\n",
    "#         best_match = tf.gather(s_patches, indices=argmin)\n",
    "    style_loss = tf.reduce_mean(tf.stack(style_loss))\n",
    "    \n",
    "    feed_dict = {generated_layer_patches: init_generated_layer_patches, style_layer_patches: init_style_layer_patches}\n",
    "    \n",
    "    out = sess.run([style_loss], feed_dict=feed_dict)"
   ]
  },
  {
   "cell_type": "code",
   "execution_count": 16,
   "metadata": {},
   "outputs": [
    {
     "data": {
      "text/plain": [
       "[-693.0]"
      ]
     },
     "execution_count": 16,
     "metadata": {},
     "output_type": "execute_result"
    }
   ],
   "source": [
    "out"
   ]
  },
  {
   "cell_type": "code",
   "execution_count": 14,
   "metadata": {},
   "outputs": [
    {
     "name": "stdout",
     "output_type": "stream",
     "text": [
      "-127.0\n"
     ]
    }
   ],
   "source": [
    "with tf.Session() as sess:\n",
    "    print(sess.run(tf.losses.cosine_distance([   8.,    8.], [   8.,    8.] , dim=0)))"
   ]
  },
  {
   "cell_type": "code",
   "execution_count": 3,
   "metadata": {},
   "outputs": [],
   "source": [
    "# answer\n",
    "with tf.Session() as sess:\n",
    "    batch, height, width, feature = 2, 3, 3, 2\n",
    "    style_batch = 4\n",
    "\n",
    "    style_layer_patches = tf.placeholder(tf.float32, shape=(style_batch, height, width, feature))\n",
    "    \n",
    "    init_style_layer_patches = np.array(\n",
    "        [\n",
    "         [[[3, 3], [71, 71], [37, 37]], [[47, 47], [57, 57], [67, 67]], [[77, 77], [87, 87], [97, 97]]],\n",
    "         [[[4, 4], [5, 5], [6, 6]], [[7, 7], [8, 8], [9, 9]], [[7, 7], [8, 8], [9, 9]]],\n",
    "         [[[14, 14], [15, 15], [16, 16]], [[7, 7], [8, 8], [9, 9]], [[27, 27], [28, 28], [29, 29]]],\n",
    "         [[[55, 33], [22, 111], [136, 106]], [[17, 17], [85, 85], [95, 95]], [[75, 75], [58, 58], [59, 59]]],   \n",
    "        ])\n",
    "    \n",
    "    generated_layer_patches = tf.placeholder(tf.float32, shape=(batch, height, width, feature))\n",
    "    \n",
    "    init_generated_layer_patches = np.array(\n",
    "        [\n",
    "            [[[1, 1], [2, 2], [3, 3]], [[4, 4], [5, 5], [6, 6]], [[7, 7], [8, 8], [9, 9]]],\n",
    "            [[[41, 41], [42, 42], [43, 43]], [[44, 44], [45, 45], [46, 46]], [[47, 47], [48, 48], [49, 49]]]\n",
    "        ])\n",
    "    \n",
    "#     concat_generate_style_layer = tf.concat([generated_layer_patches, style_layer_patches], 0)\n",
    "    \n",
    "    concat_layer = []\n",
    "    for g_layer_per_batch in tf.unstack(generated_layer_patches):\n",
    "        g_layer_per_batch = tf.expand_dims(g_layer_per_batch, 0)\n",
    "        concat_generate_style_layer = tf.concat([g_layer_per_batch, style_layer_patches], 0)\n",
    "        concat_layer.append(concat_generate_style_layer)\n",
    "    concat_layer = tf.squeeze(tf.stack(concat_layer))\n",
    "    \n",
    "    style_layer_patches_per_batch = tf.unstack(concat_layer, axis=1)\n",
    "    style_layer_join_by_per_batch = tf.stack(style_layer_patches_per_batch, axis=3)\n",
    "    style_layer_join_by_per_feature = tf.reshape(style_layer_join_by_per_batch, [batch, height*width, (style_batch + 1), feature]) \n",
    "    \n",
    "    total_style_loss = 0\n",
    "    for batch_layer in tf.unstack(style_layer_join_by_per_feature):\n",
    "        style_loss_per_batch = []\n",
    "        for layer in tf.unstack(batch_layer):\n",
    "            g_patch, s_patches = tf.split(layer, [1, style_batch], 0)\n",
    "            g_patch = tf.squeeze(g_patch)\n",
    "            ret = []\n",
    "            for pixel in tf.unstack(s_patches):\n",
    "                ret.append(tf.losses.cosine_distance(pixel, g_patch, dim=0))\n",
    "            ret = tf.stack(ret)\n",
    "            min_patch = tf.reduce_min(ret)\n",
    "            style_loss_per_batch.append(min_patch)\n",
    "    #         argmin = tf.argmin(ret)\n",
    "    #         best_match = tf.gather(s_patches, indices=argmin)\n",
    "        style_loss_per_batch = tf.reduce_mean(tf.stack(style_loss_per_batch))\n",
    "        total_style_loss += style_loss_per_batch\n",
    "    \n",
    "    total_style_loss = total_style_loss/batch\n",
    "    feed_dict = {generated_layer_patches: init_generated_layer_patches, style_layer_patches: init_style_layer_patches}\n",
    "    \n",
    "    out = sess.run([total_style_loss], feed_dict=feed_dict)\n",
    "    \n",
    "    "
   ]
  },
  {
   "cell_type": "code",
   "execution_count": 85,
   "metadata": {},
   "outputs": [
    {
     "data": {
      "text/plain": [
       "[-4070.1111]"
      ]
     },
     "execution_count": 85,
     "metadata": {},
     "output_type": "execute_result"
    }
   ],
   "source": [
    "out"
   ]
  },
  {
   "cell_type": "code",
   "execution_count": 78,
   "metadata": {},
   "outputs": [
    {
     "data": {
      "text/plain": [
       "(1, 2, 9, 5, 2)"
      ]
     },
     "execution_count": 78,
     "metadata": {},
     "output_type": "execute_result"
    }
   ],
   "source": [
    "np.asarray(out).shape"
   ]
  },
  {
   "cell_type": "code",
   "execution_count": 81,
   "metadata": {
    "scrolled": false
   },
   "outputs": [
    {
     "data": {
      "text/plain": [
       "array([[[  41.,   41.],\n",
       "        [   3.,    3.],\n",
       "        [   4.,    4.],\n",
       "        [  14.,   14.],\n",
       "        [  55.,   33.]],\n",
       "\n",
       "       [[  42.,   42.],\n",
       "        [  71.,   71.],\n",
       "        [   5.,    5.],\n",
       "        [  15.,   15.],\n",
       "        [  22.,  111.]],\n",
       "\n",
       "       [[  43.,   43.],\n",
       "        [  37.,   37.],\n",
       "        [   6.,    6.],\n",
       "        [  16.,   16.],\n",
       "        [ 136.,  106.]],\n",
       "\n",
       "       [[  44.,   44.],\n",
       "        [  47.,   47.],\n",
       "        [   7.,    7.],\n",
       "        [   7.,    7.],\n",
       "        [  17.,   17.]],\n",
       "\n",
       "       [[  45.,   45.],\n",
       "        [  57.,   57.],\n",
       "        [   8.,    8.],\n",
       "        [   8.,    8.],\n",
       "        [  85.,   85.]],\n",
       "\n",
       "       [[  46.,   46.],\n",
       "        [  67.,   67.],\n",
       "        [   9.,    9.],\n",
       "        [   9.,    9.],\n",
       "        [  95.,   95.]],\n",
       "\n",
       "       [[  47.,   47.],\n",
       "        [  77.,   77.],\n",
       "        [   7.,    7.],\n",
       "        [  27.,   27.],\n",
       "        [  75.,   75.]],\n",
       "\n",
       "       [[  48.,   48.],\n",
       "        [  87.,   87.],\n",
       "        [   8.,    8.],\n",
       "        [  28.,   28.],\n",
       "        [  58.,   58.]],\n",
       "\n",
       "       [[  49.,   49.],\n",
       "        [  97.,   97.],\n",
       "        [   9.,    9.],\n",
       "        [  29.,   29.],\n",
       "        [  59.,   59.]]], dtype=float32)"
      ]
     },
     "execution_count": 81,
     "metadata": {},
     "output_type": "execute_result"
    }
   ],
   "source": [
    "np.asarray(out)[0][1]"
   ]
  },
  {
   "cell_type": "code",
   "execution_count": null,
   "metadata": {
    "collapsed": true
   },
   "outputs": [],
   "source": []
  },
  {
   "cell_type": "code",
   "execution_count": null,
   "metadata": {
    "collapsed": true
   },
   "outputs": [],
   "source": []
  },
  {
   "cell_type": "code",
   "execution_count": null,
   "metadata": {
    "collapsed": true
   },
   "outputs": [],
   "source": []
  },
  {
   "cell_type": "code",
   "execution_count": null,
   "metadata": {
    "collapsed": true
   },
   "outputs": [],
   "source": []
  },
  {
   "cell_type": "code",
   "execution_count": 60,
   "metadata": {},
   "outputs": [
    {
     "data": {
      "text/plain": [
       "array([[[[  41.,   41.],\n",
       "         [  42.,   42.],\n",
       "         [  43.,   43.]],\n",
       "\n",
       "        [[  44.,   44.],\n",
       "         [  45.,   45.],\n",
       "         [  46.,   46.]],\n",
       "\n",
       "        [[  47.,   47.],\n",
       "         [  48.,   48.],\n",
       "         [  49.,   49.]]],\n",
       "\n",
       "\n",
       "       [[[   3.,    3.],\n",
       "         [  71.,   71.],\n",
       "         [  37.,   37.]],\n",
       "\n",
       "        [[  47.,   47.],\n",
       "         [  57.,   57.],\n",
       "         [  67.,   67.]],\n",
       "\n",
       "        [[  77.,   77.],\n",
       "         [  87.,   87.],\n",
       "         [  97.,   97.]]],\n",
       "\n",
       "\n",
       "       [[[   4.,    4.],\n",
       "         [   5.,    5.],\n",
       "         [   6.,    6.]],\n",
       "\n",
       "        [[   7.,    7.],\n",
       "         [   8.,    8.],\n",
       "         [   9.,    9.]],\n",
       "\n",
       "        [[   7.,    7.],\n",
       "         [   8.,    8.],\n",
       "         [   9.,    9.]]],\n",
       "\n",
       "\n",
       "       [[[  14.,   14.],\n",
       "         [  15.,   15.],\n",
       "         [  16.,   16.]],\n",
       "\n",
       "        [[   7.,    7.],\n",
       "         [   8.,    8.],\n",
       "         [   9.,    9.]],\n",
       "\n",
       "        [[  27.,   27.],\n",
       "         [  28.,   28.],\n",
       "         [  29.,   29.]]],\n",
       "\n",
       "\n",
       "       [[[  55.,   33.],\n",
       "         [  22.,  111.],\n",
       "         [ 136.,  106.]],\n",
       "\n",
       "        [[  17.,   17.],\n",
       "         [  85.,   85.],\n",
       "         [  95.,   95.]],\n",
       "\n",
       "        [[  75.,   75.],\n",
       "         [  58.,   58.],\n",
       "         [  59.,   59.]]]], dtype=float32)"
      ]
     },
     "execution_count": 60,
     "metadata": {},
     "output_type": "execute_result"
    }
   ],
   "source": [
    "np.asarray(out)[0][1]"
   ]
  },
  {
   "cell_type": "code",
   "execution_count": 13,
   "metadata": {},
   "outputs": [
    {
     "data": {
      "text/plain": [
       "array([[[[  41.,   41.],\n",
       "         [  42.,   42.],\n",
       "         [  43.,   43.]],\n",
       "\n",
       "        [[  44.,   44.],\n",
       "         [  45.,   45.],\n",
       "         [  46.,   46.]],\n",
       "\n",
       "        [[  47.,   47.],\n",
       "         [  48.,   48.],\n",
       "         [  49.,   49.]]],\n",
       "\n",
       "\n",
       "       [[[   1.,    1.],\n",
       "         [   2.,    2.],\n",
       "         [   3.,    3.]],\n",
       "\n",
       "        [[   4.,    4.],\n",
       "         [   5.,    5.],\n",
       "         [   6.,    6.]],\n",
       "\n",
       "        [[   7.,    7.],\n",
       "         [   8.,    8.],\n",
       "         [   9.,    9.]]],\n",
       "\n",
       "\n",
       "       [[[   4.,    4.],\n",
       "         [   5.,    5.],\n",
       "         [   6.,    6.]],\n",
       "\n",
       "        [[   7.,    7.],\n",
       "         [   8.,    8.],\n",
       "         [   9.,    9.]],\n",
       "\n",
       "        [[   7.,    7.],\n",
       "         [   8.,    8.],\n",
       "         [   9.,    9.]]],\n",
       "\n",
       "\n",
       "       [[[  14.,   14.],\n",
       "         [  15.,   15.],\n",
       "         [  16.,   16.]],\n",
       "\n",
       "        [[   7.,    7.],\n",
       "         [   8.,    8.],\n",
       "         [   9.,    9.]],\n",
       "\n",
       "        [[   7.,    7.],\n",
       "         [   8.,    8.],\n",
       "         [   9.,    9.]]],\n",
       "\n",
       "\n",
       "       [[[  55.,   33.],\n",
       "         [  22.,  111.],\n",
       "         [ 136.,  106.]],\n",
       "\n",
       "        [[  17.,   17.],\n",
       "         [  85.,   85.],\n",
       "         [  95.,   95.]],\n",
       "\n",
       "        [[  75.,   75.],\n",
       "         [  58.,   58.],\n",
       "         [  59.,   59.]]]], dtype=float32)"
      ]
     },
     "execution_count": 13,
     "metadata": {},
     "output_type": "execute_result"
    }
   ],
   "source": [
    "np.asarray(out)[0][1]"
   ]
  },
  {
   "cell_type": "code",
   "execution_count": null,
   "metadata": {
    "collapsed": true
   },
   "outputs": [],
   "source": []
  }
 ],
 "metadata": {
  "kernelspec": {
   "display_name": "Python 3",
   "language": "python",
   "name": "python3"
  },
  "language_info": {
   "codemirror_mode": {
    "name": "ipython",
    "version": 3
   },
   "file_extension": ".py",
   "mimetype": "text/x-python",
   "name": "python",
   "nbconvert_exporter": "python",
   "pygments_lexer": "ipython3",
   "version": "3.6.1"
  }
 },
 "nbformat": 4,
 "nbformat_minor": 2
}
